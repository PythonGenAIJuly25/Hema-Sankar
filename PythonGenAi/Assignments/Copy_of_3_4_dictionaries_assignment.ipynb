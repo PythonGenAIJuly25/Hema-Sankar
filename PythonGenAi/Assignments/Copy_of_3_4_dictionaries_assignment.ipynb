{
  "cells": [
    {
      "cell_type": "markdown",
      "metadata": {
        "id": "K5oRSvmBMTQq"
      },
      "source": [
        "# Module 3: Data Structures Assignments\n",
        "## Lesson 3.4: Dictionaries\n",
        "### Assignment 1: Creating and Accessing Dictionaries\n",
        "\n",
        "Create a dictionary with the first 10 positive integers as keys and their squares as values. Print the dictionary.\n",
        "\n",
        "### Assignment 2: Accessing Dictionary Elements\n",
        "\n",
        "Print the value of the key 5 and the keys of the dictionary created in Assignment 1.\n",
        "\n",
        "### Assignment 3: Dictionary Methods\n",
        "\n",
        "Add a new key-value pair (11, 121) to the dictionary created in Assignment 1 and then remove the key-value pair with key 1. Print the modified dictionary.\n",
        "\n",
        "### Assignment 4: Iterating Over Dictionaries\n",
        "\n",
        "Iterate over the dictionary created in Assignment 1 and print each key-value pair.\n",
        "\n",
        "### Assignment 5: Dictionary Comprehensions\n",
        "\n",
        "Create a new dictionary containing the cubes of the first 10 positive integers using a dictionary comprehension. Print the new dictionary.\n",
        "\n",
        "### Assignment 6: Merging Dictionaries\n",
        "\n",
        "Create two dictionaries: one with keys as the first 5 positive integers and values as their squares, and another with keys as the next 5 positive integers and values as their squares. Merge these dictionaries into a single dictionary and print it.\n",
        "\n",
        "### Assignment 7: Nested Dictionaries\n",
        "\n",
        "Create a nested dictionary representing a student with keys 'name', 'age', 'grades', where 'grades' is another dictionary with keys 'math', 'science', and 'english'. Print the nested dictionary.\n",
        "\n",
        "### Assignment 8: Dictionary of Lists\n",
        "\n",
        "Create a dictionary where the keys are the first 5 positive integers and the values are lists containing the first 5 multiples of the key. Print the dictionary.\n",
        "\n",
        "### Assignment 9: Dictionary of Tuples\n",
        "\n",
        "Create a dictionary where the keys are the first 5 positive integers and the values are tuples containing the key and its square. Print the dictionary.\n",
        "\n",
        "### Assignment 10: Dictionary and List Conversion\n",
        "\n",
        "Create a dictionary with the first 5 positive integers as keys and their squares as values. Convert the dictionary to a list of tuples and print it.\n",
        "\n",
        "### Assignment 11: Dictionary Filtering\n",
        "\n",
        "Create a dictionary with the first 10 positive integers as keys and their squares as values. Create a new dictionary containing only the key-value pairs where the key is even. Print the new dictionary.\n",
        "\n",
        "### Assignment 12: Dictionary Key and Value Transformation\n",
        "\n",
        "Create a dictionary with the first 5 positive integers as keys and their squares as values. Create a new dictionary with keys and values swapped. Print the new dictionary.\n",
        "\n",
        "### Assignment 13: Default Dictionary\n",
        "\n",
        "Create a default dictionary where each key has a default value of an empty list. Add some elements to the lists and print the dictionary.\n",
        "\n",
        "### Assignment 14: Counting with Dictionaries\n",
        "\n",
        "Write a function that takes a string and returns a dictionary with the count of each character in the string. Print the dictionary.\n",
        "\n",
        "### Assignment 15: Dictionary and JSON\n",
        "\n",
        "Create a dictionary representing a book with keys 'title', 'author', 'year', and 'genre'. Convert the dictionary to a JSON string and print it."
      ],
      "id": "K5oRSvmBMTQq"
    },
    {
      "cell_type": "markdown",
      "source": [
        "ASSIGNMENT 1"
      ],
      "metadata": {
        "id": "e681WMArMqnO"
      },
      "id": "e681WMArMqnO"
    },
    {
      "cell_type": "code",
      "execution_count": 9,
      "metadata": {
        "id": "0hYlim2cMTQu",
        "colab": {
          "base_uri": "https://localhost:8080/"
        },
        "outputId": "e3350a17-5ee9-419e-e2e4-e978bb8920d5"
      },
      "outputs": [
        {
          "output_type": "stream",
          "name": "stdout",
          "text": [
            "{1: 1, 2: 4, 3: 9, 4: 16, 5: 25, 6: 36, 7: 49, 8: 64, 9: 81, 10: 100}\n"
          ]
        }
      ],
      "source": [
        "my_dict = {}\n",
        "for i in range(1, 11):\n",
        "    my_dict[i] = i**2\n",
        "print(my_dict)"
      ],
      "id": "0hYlim2cMTQu"
    },
    {
      "cell_type": "markdown",
      "source": [
        "ASSIGNMENT 2"
      ],
      "metadata": {
        "id": "IWETOijuNJPc"
      },
      "id": "IWETOijuNJPc"
    },
    {
      "cell_type": "code",
      "source": [
        "print(my_dict[5])\n",
        "print(my_dict.keys())"
      ],
      "metadata": {
        "colab": {
          "base_uri": "https://localhost:8080/"
        },
        "id": "4-C3egjnM6Hk",
        "outputId": "8c56c669-fb2c-4995-eaf4-a103aa8bbe8a"
      },
      "id": "4-C3egjnM6Hk",
      "execution_count": 2,
      "outputs": [
        {
          "output_type": "stream",
          "name": "stdout",
          "text": [
            "25\n",
            "dict_keys([1, 2, 3, 4, 5, 6, 7, 8, 9, 10])\n"
          ]
        }
      ]
    },
    {
      "cell_type": "markdown",
      "source": [
        "ASSIGNMENT 3"
      ],
      "metadata": {
        "id": "IG2x99a0NLFd"
      },
      "id": "IG2x99a0NLFd"
    },
    {
      "cell_type": "code",
      "source": [
        "my_dict.update({11: 121})\n",
        "my_dict.pop(1)\n",
        "print(my_dict)"
      ],
      "metadata": {
        "colab": {
          "base_uri": "https://localhost:8080/"
        },
        "id": "yS0IF5AXNGgR",
        "outputId": "48b51b07-1ae3-4df6-bf44-99dd3a4a845d"
      },
      "id": "yS0IF5AXNGgR",
      "execution_count": 10,
      "outputs": [
        {
          "output_type": "stream",
          "name": "stdout",
          "text": [
            "{2: 4, 3: 9, 4: 16, 5: 25, 6: 36, 7: 49, 8: 64, 9: 81, 10: 100, 11: 121}\n"
          ]
        }
      ]
    },
    {
      "cell_type": "markdown",
      "source": [
        "ASSIGNMENT 4"
      ],
      "metadata": {
        "id": "eCFJWvA6N6rM"
      },
      "id": "eCFJWvA6N6rM"
    },
    {
      "cell_type": "code",
      "source": [
        "for i in my_dict:\n",
        "    print(\"key\",i, \"value\", my_dict[i])"
      ],
      "metadata": {
        "colab": {
          "base_uri": "https://localhost:8080/"
        },
        "id": "OBy__xY4Nq7t",
        "outputId": "959dd2c0-64c8-4dd1-b436-702e307136e8"
      },
      "id": "OBy__xY4Nq7t",
      "execution_count": 12,
      "outputs": [
        {
          "output_type": "stream",
          "name": "stdout",
          "text": [
            "key 2 value 4\n",
            "key 3 value 9\n",
            "key 4 value 16\n",
            "key 5 value 25\n",
            "key 6 value 36\n",
            "key 7 value 49\n",
            "key 8 value 64\n",
            "key 9 value 81\n",
            "key 10 value 100\n",
            "key 11 value 121\n"
          ]
        }
      ]
    },
    {
      "cell_type": "markdown",
      "source": [
        "ASSIGNMENT 5"
      ],
      "metadata": {
        "id": "Gb5McG35Olxo"
      },
      "id": "Gb5McG35Olxo"
    },
    {
      "cell_type": "code",
      "source": [
        "dictt={i:i**3 for i in range(1,11)}\n",
        "print(dictt)"
      ],
      "metadata": {
        "colab": {
          "base_uri": "https://localhost:8080/"
        },
        "id": "HDHW126_OQoM",
        "outputId": "e3d9062e-9c3b-48cf-f709-9d9086ce7006"
      },
      "id": "HDHW126_OQoM",
      "execution_count": 13,
      "outputs": [
        {
          "output_type": "stream",
          "name": "stdout",
          "text": [
            "{1: 1, 2: 8, 3: 27, 4: 64, 5: 125, 6: 216, 7: 343, 8: 512, 9: 729, 10: 1000}\n"
          ]
        }
      ]
    },
    {
      "cell_type": "markdown",
      "source": [
        "ASSIGNMENT 6"
      ],
      "metadata": {
        "id": "T6miHpgQOxkg"
      },
      "id": "T6miHpgQOxkg"
    },
    {
      "cell_type": "code",
      "source": [
        "dict1={i:i**2 for i in range(1,6)}\n",
        "dict2={i:i**2 for i in range(6,11)}\n",
        "updated={**dict1,**dict2}\n",
        "print(dict1)"
      ],
      "metadata": {
        "colab": {
          "base_uri": "https://localhost:8080/"
        },
        "id": "zZadSfIfOv_C",
        "outputId": "134b8ae5-1037-4ed5-d903-8c550313a1ff"
      },
      "id": "zZadSfIfOv_C",
      "execution_count": 15,
      "outputs": [
        {
          "output_type": "stream",
          "name": "stdout",
          "text": [
            "{1: 1, 2: 4, 3: 9, 4: 16, 5: 25}\n"
          ]
        }
      ]
    },
    {
      "cell_type": "markdown",
      "source": [
        "ASSIGNMENT 7"
      ],
      "metadata": {
        "id": "QklTWZjdPWmr"
      },
      "id": "QklTWZjdPWmr"
    },
    {
      "cell_type": "code",
      "source": [
        "student={\"name\":\"shankar\",\"age\":22,\n",
        "         \"grade\":{\"math\":90,\"science\":80,\"english\":95}}\n",
        "print(student)\n",
        ""
      ],
      "metadata": {
        "colab": {
          "base_uri": "https://localhost:8080/"
        },
        "id": "k7Y411yrPOsh",
        "outputId": "092596b9-12d5-4300-a102-3464a58c7428"
      },
      "id": "k7Y411yrPOsh",
      "execution_count": 16,
      "outputs": [
        {
          "output_type": "stream",
          "name": "stdout",
          "text": [
            "{'name': 'shankar', 'age': 22, 'grade': {'math': 90, 'science': 80, 'english': 95}}\n"
          ]
        }
      ]
    },
    {
      "cell_type": "markdown",
      "source": [
        "ASSIGNMENT 8"
      ],
      "metadata": {
        "id": "99_mAOb9RJGJ"
      },
      "id": "99_mAOb9RJGJ"
    },
    {
      "cell_type": "code",
      "source": [
        "diict = {}\n",
        "for i in range(1, 6):\n",
        "    multiples = [i * j for j in range(1, 6)]\n",
        "    diict[i] = multiples\n",
        "print(diict)"
      ],
      "metadata": {
        "colab": {
          "base_uri": "https://localhost:8080/"
        },
        "id": "PvI0_YOgP93S",
        "outputId": "cf675db1-2761-4c29-8a4a-12897b8f81b5"
      },
      "id": "PvI0_YOgP93S",
      "execution_count": 17,
      "outputs": [
        {
          "output_type": "stream",
          "name": "stdout",
          "text": [
            "{1: [1, 2, 3, 4, 5], 2: [2, 4, 6, 8, 10], 3: [3, 6, 9, 12, 15], 4: [4, 8, 12, 16, 20], 5: [5, 10, 15, 20, 25]}\n"
          ]
        }
      ]
    },
    {
      "cell_type": "markdown",
      "source": [
        "ASSIGNMENT 9"
      ],
      "metadata": {
        "id": "5Huf7KJ0SLIg"
      },
      "id": "5Huf7KJ0SLIg"
    },
    {
      "cell_type": "code",
      "source": [
        "diict = {}\n",
        "for i in range(1, 6):\n",
        "    diict[i]=(i,i**2)\n",
        "print(diict)"
      ],
      "metadata": {
        "colab": {
          "base_uri": "https://localhost:8080/"
        },
        "id": "dyIyM2kGR5UH",
        "outputId": "803e74ee-066e-49b9-af0b-b89018507f40"
      },
      "id": "dyIyM2kGR5UH",
      "execution_count": 23,
      "outputs": [
        {
          "output_type": "stream",
          "name": "stdout",
          "text": [
            "{1: (1, 1), 2: (2, 4), 3: (3, 9), 4: (4, 16), 5: (5, 25)}\n"
          ]
        }
      ]
    },
    {
      "cell_type": "markdown",
      "source": [
        "ASSIGNMENT 10"
      ],
      "metadata": {
        "id": "7g0TkGagS2nL"
      },
      "id": "7g0TkGagS2nL"
    },
    {
      "cell_type": "code",
      "source": [
        "sqd={i:i**2 for i in range(1,6)}\n",
        "sqd=list(sqd.items())\n",
        "print(sqd)"
      ],
      "metadata": {
        "colab": {
          "base_uri": "https://localhost:8080/"
        },
        "id": "KhweJhcJSXlC",
        "outputId": "69dd6d4b-42ea-4f90-af1a-a4bf5edd0d67"
      },
      "id": "KhweJhcJSXlC",
      "execution_count": 24,
      "outputs": [
        {
          "output_type": "stream",
          "name": "stdout",
          "text": [
            "[(1, 1), (2, 4), (3, 9), (4, 16), (5, 25)]\n"
          ]
        }
      ]
    },
    {
      "cell_type": "markdown",
      "source": [
        "ASSIGNMENT 11"
      ],
      "metadata": {
        "id": "kX-7p5jtWOi-"
      },
      "id": "kX-7p5jtWOi-"
    },
    {
      "cell_type": "code",
      "source": [
        "dictt={i:i**2 for i in range(1,11)}\n",
        "new_dict={k:v for k,v in dictt.items() if k%2==0}\n",
        "print(new_dict)"
      ],
      "metadata": {
        "colab": {
          "base_uri": "https://localhost:8080/"
        },
        "id": "AF8ythx2TM4f",
        "outputId": "dd5524a8-493f-409d-da13-9cd8b7042e79"
      },
      "id": "AF8ythx2TM4f",
      "execution_count": 25,
      "outputs": [
        {
          "output_type": "stream",
          "name": "stdout",
          "text": [
            "{2: 4, 4: 16, 6: 36, 8: 64, 10: 100}\n"
          ]
        }
      ]
    },
    {
      "cell_type": "markdown",
      "source": [
        "ASSIGNMENT 12"
      ],
      "metadata": {
        "id": "n7gwxUoLWhJD"
      },
      "id": "n7gwxUoLWhJD"
    },
    {
      "cell_type": "code",
      "source": [
        "dictt={i:i**2 for i in range(1,6)}\n",
        "new_dict={v:k for k,v in dictt.items()}\n",
        "print(new_dict)"
      ],
      "metadata": {
        "colab": {
          "base_uri": "https://localhost:8080/"
        },
        "id": "l0__JQ00Wcb1",
        "outputId": "7601d83f-7693-405e-a249-c9ff0605b534"
      },
      "id": "l0__JQ00Wcb1",
      "execution_count": 26,
      "outputs": [
        {
          "output_type": "stream",
          "name": "stdout",
          "text": [
            "{1: 1, 4: 2, 9: 3, 16: 4, 25: 5}\n"
          ]
        }
      ]
    },
    {
      "cell_type": "markdown",
      "source": [
        "ASSIGNMENT 13"
      ],
      "metadata": {
        "id": "GICoD7syX5RG"
      },
      "id": "GICoD7syX5RG"
    },
    {
      "cell_type": "code",
      "source": [
        "#assign 13\n",
        "default_dict={1:[],2:[],3:[],4:[],5:[]}\n",
        "default_dict[1].append(1)\n",
        "default_dict[2].append(2)\n",
        "default_dict[3].append(3)\n",
        "default_dict[4].append(4)\n",
        "default_dict[5].append(5)\n",
        "print(default_dict)\n"
      ],
      "metadata": {
        "colab": {
          "base_uri": "https://localhost:8080/"
        },
        "id": "cktHwQaEWui8",
        "outputId": "c0869dc0-6565-40d1-d784-5d8ee7324070"
      },
      "id": "cktHwQaEWui8",
      "execution_count": 27,
      "outputs": [
        {
          "output_type": "stream",
          "name": "stdout",
          "text": [
            "{1: [1], 2: [2], 3: [3], 4: [4], 5: [5]}\n"
          ]
        }
      ]
    },
    {
      "cell_type": "markdown",
      "source": [
        "ASSIGNMENT 14"
      ],
      "metadata": {
        "id": "WPbMyA42Yxg7"
      },
      "id": "WPbMyA42Yxg7"
    },
    {
      "cell_type": "code",
      "source": [
        "def count(s):\n",
        "    char_count = {}\n",
        "    for char in s:\n",
        "        if char in char_count:\n",
        "            char_count[char] += 1\n",
        "        else:\n",
        "            char_count[char] = 1\n",
        "\n",
        "    return char_count\n",
        "\n",
        "input_str = \"hello world\"\n",
        "result = count(input_str)\n",
        "print(result)\n"
      ],
      "metadata": {
        "colab": {
          "base_uri": "https://localhost:8080/"
        },
        "id": "59BWxfuaYcwt",
        "outputId": "a965dc12-1a37-42dd-db5a-e77036906b66"
      },
      "id": "59BWxfuaYcwt",
      "execution_count": 28,
      "outputs": [
        {
          "output_type": "stream",
          "name": "stdout",
          "text": [
            "{'h': 1, 'e': 1, 'l': 3, 'o': 2, ' ': 1, 'w': 1, 'r': 1, 'd': 1}\n"
          ]
        }
      ]
    },
    {
      "cell_type": "markdown",
      "source": [
        "ASSIGNMENT 15"
      ],
      "metadata": {
        "id": "ODc0KTthZqpN"
      },
      "id": "ODc0KTthZqpN"
    },
    {
      "cell_type": "code",
      "source": [
        "import json\n",
        "\n",
        "book = {\n",
        "    'title': 'To Kill a Mockingbird',\n",
        "    'author': 'Harper Lee',\n",
        "    'year': 1960,\n",
        "    'genre': 'Fiction'\n",
        "}\n",
        "\n",
        "book_json = json.dumps(book)\n",
        "print(book_json)\n"
      ],
      "metadata": {
        "colab": {
          "base_uri": "https://localhost:8080/"
        },
        "id": "tOxh6TuwZSQg",
        "outputId": "98c3667e-02a2-408c-9fba-a37aece1224f"
      },
      "id": "tOxh6TuwZSQg",
      "execution_count": 29,
      "outputs": [
        {
          "output_type": "stream",
          "name": "stdout",
          "text": [
            "{\"title\": \"To Kill a Mockingbird\", \"author\": \"Harper Lee\", \"year\": 1960, \"genre\": \"Fiction\"}\n"
          ]
        }
      ]
    },
    {
      "cell_type": "code",
      "source": [],
      "metadata": {
        "id": "p3pDnmEEahzW"
      },
      "id": "p3pDnmEEahzW",
      "execution_count": null,
      "outputs": []
    }
  ],
  "metadata": {
    "kernelspec": {
      "display_name": "Python 3",
      "language": "python",
      "name": "python3"
    },
    "language_info": {
      "codemirror_mode": {
        "name": "ipython",
        "version": 3
      },
      "file_extension": ".py",
      "mimetype": "text/x-python",
      "name": "python",
      "nbconvert_exporter": "python",
      "pygments_lexer": "ipython3",
      "version": "3.9.7"
    },
    "colab": {
      "provenance": []
    }
  },
  "nbformat": 4,
  "nbformat_minor": 5
}