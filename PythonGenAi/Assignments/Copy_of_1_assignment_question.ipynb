{
  "cells": [
    {
      "cell_type": "markdown",
      "metadata": {
        "id": "uITkgtiRcjRF"
      },
      "source": [
        "# Python Basics\n",
        "## Topics Covered:\n",
        "- Syntax and Semantics\n",
        "- Variables and Data Types\n",
        "- Basic Operators (Arithmetic, Comparison, Logical)\n"
      ]
    },
    {
      "cell_type": "markdown",
      "metadata": {
        "id": "G5ylQxbRcjRH"
      },
      "source": [
        "## 1. Syntax and Semantics\n",
        "\n",
        "**Question 1:** Write a Python program to print \"Hello, World!\"."
      ]
    },
    {
      "cell_type": "code",
      "execution_count": null,
      "metadata": {
        "id": "UGuBGOT3cjRI",
        "colab": {
          "base_uri": "https://localhost:8080/"
        },
        "outputId": "5a6b70a7-367d-480d-d02f-d6615d9b3562"
      },
      "outputs": [
        {
          "output_type": "stream",
          "name": "stdout",
          "text": [
            "Hello,World!\n"
          ]
        }
      ],
      "source": [
        "print(\"Hello,World!\")# Your code here"
      ]
    },
    {
      "cell_type": "markdown",
      "metadata": {
        "id": "zfHmMZaDcjRJ"
      },
      "source": [
        "**Question 2:** Write a Python program that takes a user input and prints it."
      ]
    },
    {
      "cell_type": "code",
      "execution_count": null,
      "metadata": {
        "id": "PI9NIC-rcjRJ",
        "colab": {
          "base_uri": "https://localhost:8080/"
        },
        "outputId": "98195591-c444-4926-8e1a-d89bb420e5a6"
      },
      "outputs": [
        {
          "output_type": "stream",
          "name": "stdout",
          "text": [
            "enter your nameN HEMA SANKAR\n",
            "N HEMA SANKAR\n"
          ]
        }
      ],
      "source": [
        "# Your code here\n",
        "inpp=input(\"enter your name\")\n",
        "print(inpp)"
      ]
    },
    {
      "cell_type": "markdown",
      "metadata": {
        "id": "1H1e8btCcjRJ"
      },
      "source": [
        "**Question 3:** Write a Python program to check if a number is positive, negative, or zero."
      ]
    },
    {
      "cell_type": "code",
      "execution_count": null,
      "metadata": {
        "id": "tDCKUJ1ucjRJ",
        "colab": {
          "base_uri": "https://localhost:8080/"
        },
        "outputId": "aadd670f-c978-4820-dbaa-9127cf74f6b6"
      },
      "outputs": [
        {
          "output_type": "stream",
          "name": "stdout",
          "text": [
            "enter your number3\n",
            "positive\n"
          ]
        }
      ],
      "source": [
        "# Your code here\n",
        "num=int(input(\"enter your number\"))\n",
        "if num>0:\n",
        "  print(\"positive\")\n",
        "elif num<0:\n",
        "  print(\"negative\")\n",
        "else:\n",
        "  print(\"zero\")"
      ]
    },
    {
      "cell_type": "markdown",
      "metadata": {
        "id": "x2aIf_YzcjRK"
      },
      "source": [
        "**Question 4:** Write a Python program to find the largest of three numbers."
      ]
    },
    {
      "cell_type": "code",
      "execution_count": null,
      "metadata": {
        "id": "J_rBUdMNcjRK",
        "colab": {
          "base_uri": "https://localhost:8080/"
        },
        "outputId": "5e0fc0a6-dd24-469a-bf6a-6228f0437f97"
      },
      "outputs": [
        {
          "output_type": "stream",
          "name": "stdout",
          "text": [
            "enter your number1\n",
            "enter your number2\n",
            "enter your number3\n",
            "3\n"
          ]
        }
      ],
      "source": [
        "# Your code here\n",
        "num1=int(input(\"enter your number\"))\n",
        "num2=int(input(\"enter your number\"))\n",
        "num3=int(input(\"enter your number\"))\n",
        "if num1>num2 and num1>num3:\n",
        "  print(num1)\n",
        "elif num2>num1 and num2>num3:\n",
        "  print(num2)\n",
        "else:\n",
        "  print(num3)"
      ]
    },
    {
      "cell_type": "markdown",
      "metadata": {
        "id": "2n_ykj48cjRK"
      },
      "source": [
        "**Question 5:** Write a Python program to calculate the factorial of a number."
      ]
    },
    {
      "cell_type": "code",
      "execution_count": null,
      "metadata": {
        "id": "igdzdTWscjRK",
        "colab": {
          "base_uri": "https://localhost:8080/"
        },
        "outputId": "29fd0b5b-830e-4a3e-880b-0c23cd12db21"
      },
      "outputs": [
        {
          "output_type": "stream",
          "name": "stdout",
          "text": [
            "inuput number5\n",
            "120\n"
          ]
        }
      ],
      "source": [
        "# Your code here\n",
        "num=int(input(\"inuput number\"))\n",
        "fact=1\n",
        "for i in range(1,num+1):\n",
        "  fact=fact*i\n",
        "print(fact)"
      ]
    },
    {
      "cell_type": "markdown",
      "metadata": {
        "id": "lxZWOmOBcjRK"
      },
      "source": [
        "## 2. Variables and Data Types\n",
        "\n",
        "**Question 6:** Create variables of different data types: integer, float, string, and boolean. Print their values and types."
      ]
    },
    {
      "cell_type": "code",
      "execution_count": null,
      "metadata": {
        "id": "gFeaSsOpcjRK",
        "colab": {
          "base_uri": "https://localhost:8080/"
        },
        "outputId": "df94761a-14b9-480b-b962-84eb2f2ba1e6"
      },
      "outputs": [
        {
          "output_type": "stream",
          "name": "stdout",
          "text": [
            "enter number28\n",
            "enter number12.6\n",
            "enter stringsankar\n",
            "enter boolean1\n",
            "28 <class 'int'> \n",
            " 12.6 <class 'float'> \n",
            " sankar <class 'str'> \n",
            " True <class 'bool'>\n"
          ]
        }
      ],
      "source": [
        "# Your code here\n",
        "integer=int(input(\"enter number\"))\n",
        "flot=float(input(\"enter number\"))\n",
        "string=input(\"enter string\")\n",
        "boolean=bool(input(\"enter boolean\"))\n",
        "print(integer,type(integer),\"\\n\",flot,type(flot),\"\\n\",string,type(string),\"\\n\",boolean,type(boolean))"
      ]
    },
    {
      "cell_type": "markdown",
      "metadata": {
        "id": "3P0goO3ecjRL"
      },
      "source": [
        "**Question 7:** Write a Python program to swap the values of two variables."
      ]
    },
    {
      "cell_type": "code",
      "execution_count": null,
      "metadata": {
        "id": "hIdluXfEcjRL",
        "colab": {
          "base_uri": "https://localhost:8080/"
        },
        "outputId": "159a755b-c0cf-453d-901b-7e5dc2e9bfd3"
      },
      "outputs": [
        {
          "output_type": "stream",
          "name": "stdout",
          "text": [
            "enter number6\n",
            "enter number3\n",
            "3 6\n"
          ]
        }
      ],
      "source": [
        "# Your code here\n",
        "a=int(input(\"enter number\"))\n",
        "b=int(input(\"enter number\"))\n",
        "a,b=b,a\n",
        "print(a,b)"
      ]
    },
    {
      "cell_type": "markdown",
      "metadata": {
        "id": "HdY3RR-KcjRL"
      },
      "source": [
        "**Question 8:** Write a Python program to convert Celsius to Fahrenheit."
      ]
    },
    {
      "cell_type": "code",
      "execution_count": null,
      "metadata": {
        "id": "czBiCWM2cjRL",
        "colab": {
          "base_uri": "https://localhost:8080/"
        },
        "outputId": "b9b9d06e-9a58-4127-c1c0-62bcc584916f"
      },
      "outputs": [
        {
          "output_type": "stream",
          "name": "stdout",
          "text": [
            "enter celsius34.50\n",
            "94.1\n"
          ]
        }
      ],
      "source": [
        "# Your code here\n",
        "celsius=float(input(\"enter celsius\"))\n",
        "fahrenheit=(celsius*9/5)+32\n",
        "print(fahrenheit)"
      ]
    },
    {
      "cell_type": "markdown",
      "metadata": {
        "id": "Zriofy3HcjRL"
      },
      "source": [
        "**Question 9:** Write a Python program to concatenate two strings."
      ]
    },
    {
      "cell_type": "code",
      "execution_count": null,
      "metadata": {
        "id": "68NvqHCqcjRL",
        "colab": {
          "base_uri": "https://localhost:8080/"
        },
        "outputId": "e3226e92-b76b-47b4-d8e1-7626fb5f1539"
      },
      "outputs": [
        {
          "output_type": "stream",
          "name": "stdout",
          "text": [
            "enter stringHema\n",
            "enter stringSankar\n",
            "HemaSankar\n"
          ]
        }
      ],
      "source": [
        "# Your code here\n",
        "str1=input(\"enter string\")\n",
        "str2=input(\"enter string\")\n",
        "print(str1+str2)"
      ]
    },
    {
      "cell_type": "markdown",
      "metadata": {
        "id": "8qLWN2TQcjRL"
      },
      "source": [
        "**Question 10:** Write a Python program to check if a variable is of a specific data type."
      ]
    },
    {
      "cell_type": "code",
      "execution_count": null,
      "metadata": {
        "id": "NIFS0sFMcjRL",
        "colab": {
          "base_uri": "https://localhost:8080/"
        },
        "outputId": "f8a12ab7-501f-4dec-9ccc-817a9ba600f8"
      },
      "outputs": [
        {
          "output_type": "stream",
          "name": "stdout",
          "text": [
            "x is a float\n"
          ]
        }
      ],
      "source": [
        "x = 3.14\n",
        "\n",
        "if type(x) == int:\n",
        "    print(\"x is an integer\")\n",
        "elif type(x) == float:\n",
        "    print(\"x is a float\")\n",
        "elif type(x) == str:\n",
        "    print(\"x is a string\")\n",
        "elif type(x) == list:\n",
        "    print(\"x is a list\")\n",
        "elif type(x) == dict:\n",
        "    print(\"x is a dictionary\")\n",
        "else:\n",
        "    print(\"x is of unknown type\")"
      ]
    },
    {
      "cell_type": "markdown",
      "metadata": {
        "id": "BkJyMkyUcjRL"
      },
      "source": [
        "## 3. Basic Operators (Arithmetic, Comparison, Logical)\n",
        "\n",
        "**Question 11:** Write a Python program to perform arithmetic operations: addition, subtraction, multiplication, and division."
      ]
    },
    {
      "cell_type": "code",
      "execution_count": null,
      "metadata": {
        "id": "XTwgtEKkcjRL",
        "colab": {
          "base_uri": "https://localhost:8080/"
        },
        "outputId": "c2977001-0834-4486-aa3d-6b02a53291bb"
      },
      "outputs": [
        {
          "output_type": "stream",
          "name": "stdout",
          "text": [
            "enter number12\n",
            "enter number3\n",
            "Addition: 15 \n",
            " Subtraction 9 \n",
            " Multiplication 36 \n",
            " Division 4.0\n"
          ]
        }
      ],
      "source": [
        "# Your code here\n",
        "a=int(input(\"enter number\"))\n",
        "b=int(input(\"enter number\"))\n",
        "print(\"Addition:\",a+b,\"\\n\",\"Subtraction\",a-b,\"\\n\",\"Multiplication\",a*b,\"\\n\",\"Division\",a/b)"
      ]
    },
    {
      "cell_type": "markdown",
      "metadata": {
        "id": "U9KgjCsycjRL"
      },
      "source": [
        "**Question 12:** Write a Python program to demonstrate comparison operators: equal to, not equal to, greater than, less than."
      ]
    },
    {
      "cell_type": "code",
      "execution_count": null,
      "metadata": {
        "id": "_nWvetJWcjRL",
        "colab": {
          "base_uri": "https://localhost:8080/"
        },
        "outputId": "d471135b-13a8-4054-913e-ac186f2238bf"
      },
      "outputs": [
        {
          "output_type": "stream",
          "name": "stdout",
          "text": [
            "enter number4\n",
            "enter number7\n",
            "equal to False \n",
            " not equal to True \n",
            " greater than False \n",
            " less than True\n"
          ]
        }
      ],
      "source": [
        "# Your code here\n",
        "a=int(input(\"enter number\"))\n",
        "b=int(input(\"enter number\"))\n",
        "print(\"equal to\",a==b,\"\\n\",\"not equal to\",a!=b,\"\\n\",\"greater than\",a>b,\"\\n\",\"less than\",a<b)"
      ]
    },
    {
      "cell_type": "markdown",
      "metadata": {
        "id": "xeVzWDj1cjRL"
      },
      "source": [
        "**Question 13:** Write a Python program to demonstrate logical operators: and, or, not."
      ]
    },
    {
      "cell_type": "code",
      "execution_count": null,
      "metadata": {
        "id": "3jKpMjQIcjRM",
        "colab": {
          "base_uri": "https://localhost:8080/"
        },
        "outputId": "0aa6a47c-b37d-4535-f398-9f0e2f7832f1"
      },
      "outputs": [
        {
          "output_type": "stream",
          "name": "stdout",
          "text": [
            "enter number12\n",
            "enter number2\n",
            "and 2 \n",
            " or 12 \n",
            " not False\n"
          ]
        }
      ],
      "source": [
        "# Your code here\n",
        "a=int(input(\"enter number\"))\n",
        "b=int(input(\"enter number\"))\n",
        "print(\"and\",a and b,\"\\n\",\"or\",a or b,\"\\n\",\"not\",not a)"
      ]
    },
    {
      "cell_type": "markdown",
      "metadata": {
        "id": "nc9QK7WQcjRM"
      },
      "source": [
        "**Question 14:** Write a Python program to calculate the square of a number."
      ]
    },
    {
      "cell_type": "code",
      "execution_count": null,
      "metadata": {
        "id": "G9jHLbohcjRM",
        "colab": {
          "base_uri": "https://localhost:8080/"
        },
        "outputId": "f4fceb85-86b4-40d3-81e8-5db677a4ab98"
      },
      "outputs": [
        {
          "output_type": "stream",
          "name": "stdout",
          "text": [
            "enter number4\n",
            "16\n"
          ]
        }
      ],
      "source": [
        "# Your code here\n",
        "a=int(input(\"enter number\"))\n",
        "print(a**2)"
      ]
    },
    {
      "cell_type": "markdown",
      "metadata": {
        "id": "OQpeoy_4cjRM"
      },
      "source": [
        "**Question 15:** Write a Python program to check if a number is even or odd."
      ]
    },
    {
      "cell_type": "code",
      "execution_count": null,
      "metadata": {
        "id": "hMtQWfYNcjRM",
        "colab": {
          "base_uri": "https://localhost:8080/"
        },
        "outputId": "fbdaabac-8f2c-466c-8f7c-c37e6846445f"
      },
      "outputs": [
        {
          "output_type": "stream",
          "name": "stdout",
          "text": [
            "enter number2\n",
            "even\n"
          ]
        }
      ],
      "source": [
        "# Your code here\n",
        "a=int(input(\"enter number\"))\n",
        "if a%2==0:\n",
        "  print(\"even\")\n",
        "else:\n",
        "  print(\"odd\")"
      ]
    },
    {
      "cell_type": "markdown",
      "metadata": {
        "id": "6M7QiMg4cjRM"
      },
      "source": [
        "**Question 16:** Write a Python program to find the sum of the first n natural numbers."
      ]
    },
    {
      "cell_type": "code",
      "execution_count": null,
      "metadata": {
        "id": "H8BIhZZZcjRM",
        "colab": {
          "base_uri": "https://localhost:8080/"
        },
        "outputId": "eb5a2e48-90ec-49a3-b477-8a49090ca502"
      },
      "outputs": [
        {
          "output_type": "stream",
          "name": "stdout",
          "text": [
            "enter number15\n",
            "120\n"
          ]
        }
      ],
      "source": [
        "# Your code here\n",
        "a=int(input(\"enter number\"))\n",
        "sum=0\n",
        "for i in range(1,a+1):\n",
        "  sum=sum+i\n",
        "print(sum)"
      ]
    },
    {
      "cell_type": "markdown",
      "metadata": {
        "id": "O7HEcUw5cjRM"
      },
      "source": [
        "**Question 17:** Write a Python program to check if a year is a leap year."
      ]
    },
    {
      "cell_type": "code",
      "execution_count": null,
      "metadata": {
        "id": "d3xbopNbcjRM",
        "colab": {
          "base_uri": "https://localhost:8080/"
        },
        "outputId": "0e9e710b-59c6-4b17-af3c-456c7399dc70"
      },
      "outputs": [
        {
          "output_type": "stream",
          "name": "stdout",
          "text": [
            "enter year2024\n",
            "LEap Year\n"
          ]
        }
      ],
      "source": [
        "year=int(input(\"enter year\"))\n",
        "if(year %4==0 and year %100!=0) or(year%400==0):\n",
        "  print(\"LEap Year\")\n",
        "else:\n",
        "  print(\"Not a Leap Year\")\n",
        "# Your code here"
      ]
    },
    {
      "cell_type": "markdown",
      "metadata": {
        "id": "FWQ14m0-cjRM"
      },
      "source": [
        "**Question 18:** Write a Python program to reverse a string."
      ]
    },
    {
      "cell_type": "code",
      "execution_count": null,
      "metadata": {
        "id": "g5OwAFzVcjRM",
        "colab": {
          "base_uri": "https://localhost:8080/"
        },
        "outputId": "3e21692b-ecc2-4d83-ff71-74d882157bbb"
      },
      "outputs": [
        {
          "output_type": "stream",
          "name": "stdout",
          "text": [
            "enter the stringhema\n",
            "ameh \n"
          ]
        }
      ],
      "source": [
        "# Your code here\n",
        "string=input(\"enter the string\")\n",
        "rev=\" \"\n",
        "for i in string:\n",
        "  rev=i+rev\n",
        "print(rev)"
      ]
    },
    {
      "cell_type": "markdown",
      "metadata": {
        "id": "aiMzv8qrcjRM"
      },
      "source": [
        "**Question 19:** Write a Python program to check if a string is a palindrome."
      ]
    },
    {
      "cell_type": "code",
      "execution_count": null,
      "metadata": {
        "id": "zcnxo_rdcjRM",
        "colab": {
          "base_uri": "https://localhost:8080/"
        },
        "outputId": "126e8fad-fe9f-4877-d4c3-c23c77f8cbf8"
      },
      "outputs": [
        {
          "output_type": "stream",
          "name": "stdout",
          "text": [
            "enter the stringheh\n",
            "palindrome\n"
          ]
        }
      ],
      "source": [
        "# Your code here\n",
        "string=input(\"enter the string\")\n",
        "rev=\"\"\n",
        "for i in string:\n",
        "  rev=i+rev\n",
        "if string==rev:\n",
        "  print(\"palindrome\")\n",
        "else:\n",
        "  print(\"not palindrome\")"
      ]
    },
    {
      "cell_type": "markdown",
      "metadata": {
        "id": "cOeaxhAecjRQ"
      },
      "source": [
        "**Question 20:** Write a Python program to sort a list of numbers in ascending order."
      ]
    },
    {
      "cell_type": "code",
      "execution_count": null,
      "metadata": {
        "id": "nJkErjKGcjRQ",
        "colab": {
          "base_uri": "https://localhost:8080/"
        },
        "outputId": "7c74895c-558c-48f9-fea4-1bd60ac7f88c"
      },
      "outputs": [
        {
          "output_type": "stream",
          "name": "stdout",
          "text": [
            "enter number12\n",
            "enter number32\n",
            "enter number11\n",
            "enter number43\n",
            "enter number22\n",
            "[11, 12, 22, 32, 43]\n"
          ]
        }
      ],
      "source": [
        "# Your code here\n",
        "lst=[int(input(\"enter number\")) for i in range(5)]\n",
        "for i in range(len(lst)):\n",
        "  for j in range(i+1,len(lst)):\n",
        "    if lst[i]>lst[j]:\n",
        "      lst[i],lst[j]=lst[j],lst[i]\n",
        "print(lst)\n"
      ]
    },
    {
      "cell_type": "code",
      "source": [],
      "metadata": {
        "id": "rtiEVy-Rh1xt"
      },
      "execution_count": null,
      "outputs": []
    }
  ],
  "metadata": {
    "kernelspec": {
      "display_name": "Python 3",
      "language": "python",
      "name": "python3"
    },
    "language_info": {
      "codemirror_mode": {
        "name": "ipython",
        "version": 3
      },
      "file_extension": ".py",
      "mimetype": "text/x-python",
      "name": "python",
      "nbconvert_exporter": "python",
      "pygments_lexer": "ipython3",
      "version": "3.8.5"
    },
    "colab": {
      "provenance": []
    }
  },
  "nbformat": 4,
  "nbformat_minor": 0
}