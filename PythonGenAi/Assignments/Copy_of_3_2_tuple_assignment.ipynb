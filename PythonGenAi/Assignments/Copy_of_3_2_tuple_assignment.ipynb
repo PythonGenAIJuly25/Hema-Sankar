{
  "cells": [
    {
      "cell_type": "markdown",
      "id": "6cade624",
      "metadata": {
        "id": "6cade624"
      },
      "source": [
        "# Module 3: Data Structures Assignments\n",
        "## Lesson 3.2: Tuples\n",
        "### Assignment 1: Creating and Accessing Tuples\n",
        "\n",
        "Create a tuple with the first 10 positive integers. Print the tuple.\n",
        "\n",
        "### Assignment 2: Accessing Tuple Elements\n",
        "\n",
        "Print the first, middle, and last elements of the tuple created in Assignment 1.\n",
        "\n",
        "### Assignment 3: Tuple Slicing\n",
        "\n",
        "Print the first three elements, the last three elements, and the elements from index 2 to 5 of the tuple created in Assignment 1.\n",
        "\n",
        "### Assignment 4: Nested Tuples\n",
        "\n",
        "Create a nested tuple representing a 3x3 matrix and print the matrix. Access and print the element at the second row and third column.\n",
        "\n",
        "### Assignment 5: Tuple Concatenation\n",
        "\n",
        "Concatenate two tuples: (1, 2, 3) and (4, 5, 6). Print the resulting tuple.\n",
        "\n",
        "### Assignment 6: Tuple Methods\n",
        "\n",
        "Create a tuple with duplicate elements and count the occurrences of an element. Find the index of the first occurrence of an element in the tuple.\n",
        "\n",
        "### Assignment 7: Unpacking Tuples\n",
        "\n",
        "Create a tuple with 5 elements and unpack it into 5 variables. Print the variables.\n",
        "\n",
        "### Assignment 8: Tuple Conversion\n",
        "\n",
        "Convert a list of the first 5 positive integers to a tuple. Print the tuple.\n",
        "\n",
        "### Assignment 9: Tuple of Tuples\n",
        "\n",
        "Create a tuple containing 3 tuples, each with 3 elements. Print the tuple of tuples.\n",
        "\n",
        "### Assignment 10: Tuple and List\n",
        "\n",
        "Create a tuple with the first 5 positive integers. Convert it to a list, append the number 6, and convert it back to a tuple. Print the resulting tuple.\n",
        "\n",
        "### Assignment 11: Tuple and String\n",
        "\n",
        "Create a tuple with the characters of a string. Join the tuple elements into a single string. Print the string.\n",
        "\n",
        "### Assignment 12: Tuple and Dictionary\n",
        "\n",
        "Create a dictionary with tuple keys and integer values. Print the dictionary.\n",
        "\n",
        "### Assignment 13: Nested Tuple Iteration\n",
        "\n",
        "Create a nested tuple and iterate over the elements, printing each element.\n",
        "\n",
        "### Assignment 14: Tuple and Set\n",
        "\n",
        "Create a tuple with duplicate elements. Convert it to a set to remove duplicates and print the resulting set.\n",
        "\n",
        "### Assignment 15: Tuple Functions\n",
        "\n",
        "Write functions that take a tuple and return the minimum, maximum, and sum of the elements. Print the results for a sample tuple."
      ]
    },
    {
      "cell_type": "code",
      "execution_count": null,
      "metadata": {
        "colab": {
          "base_uri": "https://localhost:8080/"
        },
        "id": "0C9Omv6FRwuj",
        "outputId": "b5521573-78a9-460d-ee9b-9aa0694c5326"
      },
      "outputs": [
        {
          "output_type": "stream",
          "name": "stdout",
          "text": [
            "range(1, 11)\n"
          ]
        }
      ],
      "source": [
        "#assignment1\n",
        "tuple1=(range(1,11))\n",
        "print(tuple1)"
      ],
      "id": "0C9Omv6FRwuj"
    },
    {
      "cell_type": "code",
      "source": [
        "#assignent2\n",
        "print(tuple1[0])\n",
        "print(tuple1[4])\n",
        "print(tuple1[-1])"
      ],
      "metadata": {
        "colab": {
          "base_uri": "https://localhost:8080/"
        },
        "id": "kkxciMELR3Z0",
        "outputId": "791264a8-3932-49a6-ff7c-1b9010543b12"
      },
      "id": "kkxciMELR3Z0",
      "execution_count": null,
      "outputs": [
        {
          "output_type": "stream",
          "name": "stdout",
          "text": [
            "1\n",
            "5\n",
            "10\n"
          ]
        }
      ]
    },
    {
      "cell_type": "code",
      "source": [
        "#assignment3\n",
        "print(tuple1[:3])\n",
        "print(tuple1[-3:])\n",
        "print(tuple1[2:6])"
      ],
      "metadata": {
        "colab": {
          "base_uri": "https://localhost:8080/"
        },
        "id": "mvWpMLvxSRr5",
        "outputId": "90a3e3a8-6a19-493a-86e2-58067c00df40"
      },
      "id": "mvWpMLvxSRr5",
      "execution_count": null,
      "outputs": [
        {
          "output_type": "stream",
          "name": "stdout",
          "text": [
            "range(1, 4)\n",
            "range(8, 11)\n",
            "range(3, 7)\n"
          ]
        }
      ]
    },
    {
      "cell_type": "code",
      "source": [
        "#assignment4\n",
        "matrix=((1,2,3),(4,5,6),(7,8,9))\n",
        "print(matrix)\n"
      ],
      "metadata": {
        "colab": {
          "base_uri": "https://localhost:8080/"
        },
        "id": "H2Ad7yLOSW6o",
        "outputId": "b81cc428-058e-46da-ca40-756f50043aee"
      },
      "id": "H2Ad7yLOSW6o",
      "execution_count": null,
      "outputs": [
        {
          "output_type": "stream",
          "name": "stdout",
          "text": [
            "((1, 2, 3), (4, 5, 6), (7, 8, 9))\n"
          ]
        }
      ]
    },
    {
      "cell_type": "code",
      "source": [
        "t1=(1,2,3)\n",
        "t2=(4,5,6)\n",
        "print(t1+t2)\n"
      ],
      "metadata": {
        "colab": {
          "base_uri": "https://localhost:8080/"
        },
        "id": "eSXUku9RSbse",
        "outputId": "19809459-83af-453d-ad23-713d3769fc38"
      },
      "id": "eSXUku9RSbse",
      "execution_count": null,
      "outputs": [
        {
          "output_type": "stream",
          "name": "stdout",
          "text": [
            "(1, 2, 3, 4, 5, 6)\n"
          ]
        }
      ]
    },
    {
      "cell_type": "code",
      "source": [
        "duptup=(1,2,3,4,4,3,2,1)\n",
        "visited=[]\n",
        "for i in duptup:\n",
        "  if i in visited:\n",
        "    print(i)\n",
        "  else:\n",
        "    visited.append(i)\n"
      ],
      "metadata": {
        "id": "cBB5poD_SqiD",
        "colab": {
          "base_uri": "https://localhost:8080/"
        },
        "outputId": "8122f46f-1395-46f9-cf76-16e2a97321a6"
      },
      "id": "cBB5poD_SqiD",
      "execution_count": 6,
      "outputs": [
        {
          "output_type": "stream",
          "name": "stdout",
          "text": [
            "4\n",
            "3\n",
            "2\n",
            "1\n"
          ]
        }
      ]
    },
    {
      "cell_type": "code",
      "source": [
        "#assignment7\n",
        "tup=(1,2,3,4,5)\n",
        "a,b,c,d,e=tup\n",
        "print(a,b,c,d,e)"
      ],
      "metadata": {
        "colab": {
          "base_uri": "https://localhost:8080/"
        },
        "id": "gsXlPEFWVlx4",
        "outputId": "9fd72924-29b9-48e3-91a3-074b9080ec84"
      },
      "id": "gsXlPEFWVlx4",
      "execution_count": 7,
      "outputs": [
        {
          "output_type": "stream",
          "name": "stdout",
          "text": [
            "1 2 3 4 5\n"
          ]
        }
      ]
    },
    {
      "cell_type": "code",
      "source": [
        "lis=[x for x in range(1,6)]\n",
        "tup=tuple(lis)\n",
        "print(tup)"
      ],
      "metadata": {
        "colab": {
          "base_uri": "https://localhost:8080/"
        },
        "id": "XVqK7JYHV8Rz",
        "outputId": "2c286d29-9310-4892-a51b-efa5f8624ea8"
      },
      "id": "XVqK7JYHV8Rz",
      "execution_count": 11,
      "outputs": [
        {
          "output_type": "stream",
          "name": "stdout",
          "text": [
            "(1, 2, 3, 4, 5)\n"
          ]
        }
      ]
    },
    {
      "cell_type": "code",
      "source": [
        "#assi9\n",
        "tup=(('a','b','c'),('d','e','f'),('g','h','i'))\n",
        "print(tup)"
      ],
      "metadata": {
        "colab": {
          "base_uri": "https://localhost:8080/"
        },
        "id": "ZmM99SzWWE74",
        "outputId": "dbf07d28-34f0-45ff-b7f9-900b50d2b249"
      },
      "id": "ZmM99SzWWE74",
      "execution_count": 12,
      "outputs": [
        {
          "output_type": "stream",
          "name": "stdout",
          "text": [
            "(('a', 'b', 'c'), ('d', 'e', 'f'), ('g', 'h', 'i'))\n"
          ]
        }
      ]
    },
    {
      "cell_type": "code",
      "source": [
        "#10\n",
        "lis=[x for x in range(1,6)]\n",
        "tup=tuple(lis)\n",
        "lis.append(6)\n",
        "tup=tuple(lis)\n",
        "print(tup)"
      ],
      "metadata": {
        "colab": {
          "base_uri": "https://localhost:8080/"
        },
        "id": "og96T2SIW9SI",
        "outputId": "d684610d-a67c-4eff-d01d-82afe46c61a7"
      },
      "id": "og96T2SIW9SI",
      "execution_count": 13,
      "outputs": [
        {
          "output_type": "stream",
          "name": "stdout",
          "text": [
            "(1, 2, 3, 4, 5, 6)\n"
          ]
        }
      ]
    },
    {
      "cell_type": "code",
      "source": [
        "#11\n",
        "string=\"shankar\"\n",
        "tup=tuple(string)\n",
        "print(tup)"
      ],
      "metadata": {
        "colab": {
          "base_uri": "https://localhost:8080/"
        },
        "id": "sD5ITc5EXFZ_",
        "outputId": "0cf02dc3-b772-42c9-af00-b2bef41b44ef"
      },
      "id": "sD5ITc5EXFZ_",
      "execution_count": 15,
      "outputs": [
        {
          "output_type": "stream",
          "name": "stdout",
          "text": [
            "('s', 'h', 'a', 'n', 'k', 'a', 'r')\n"
          ]
        }
      ]
    },
    {
      "cell_type": "code",
      "source": [
        "#12\n",
        "dic={tup:(1,2,3)}\n",
        "print(dic)"
      ],
      "metadata": {
        "colab": {
          "base_uri": "https://localhost:8080/"
        },
        "id": "l1DEqGRMXHT9",
        "outputId": "8b089ede-0f86-4c94-df74-3a5768072255"
      },
      "id": "l1DEqGRMXHT9",
      "execution_count": 16,
      "outputs": [
        {
          "output_type": "stream",
          "name": "stdout",
          "text": [
            "{('s', 'h', 'a', 'n', 'k', 'a', 'r'): (1, 2, 3)}\n"
          ]
        }
      ]
    },
    {
      "cell_type": "code",
      "source": [
        "#13\n",
        "tup=((1,5,3),(4,5,6),(0,8,9))\n",
        "for i in tup:\n",
        "  print(i)"
      ],
      "metadata": {
        "colab": {
          "base_uri": "https://localhost:8080/"
        },
        "id": "fOjsVmLUXMYM",
        "outputId": "91133764-5d17-4ad0-82ee-04de92a19c79"
      },
      "id": "fOjsVmLUXMYM",
      "execution_count": 18,
      "outputs": [
        {
          "output_type": "stream",
          "name": "stdout",
          "text": [
            "(1, 5, 3)\n",
            "(4, 5, 6)\n",
            "(0, 8, 9)\n"
          ]
        }
      ]
    },
    {
      "cell_type": "code",
      "source": [
        "#assi14\n",
        "duptup=(1,2,3,4,4,3,2,1)\n",
        "visited=[]\n",
        "for i in duptup:\n",
        "  if i in visited:\n",
        "    print(i)\n",
        "  else:\n",
        "    visited.append(i)\n"
      ],
      "metadata": {
        "colab": {
          "base_uri": "https://localhost:8080/"
        },
        "id": "2iTxOHR-XWSW",
        "outputId": "b951eaaf-61ed-4b9d-8db7-a7387d6aca64"
      },
      "id": "2iTxOHR-XWSW",
      "execution_count": 19,
      "outputs": [
        {
          "output_type": "stream",
          "name": "stdout",
          "text": [
            "4\n",
            "3\n",
            "2\n",
            "1\n"
          ]
        }
      ]
    },
    {
      "cell_type": "code",
      "source": [
        "#15\n",
        "def fun(t1):\n",
        "  return f\"Min: {min(t1)},Max: {max(t1)},Sum: {sum(t1)}\"\n",
        "tup=(1,4,32,5,6)\n",
        "print(fun(tup))"
      ],
      "metadata": {
        "colab": {
          "base_uri": "https://localhost:8080/"
        },
        "id": "OkViAh09Xz1B",
        "outputId": "52f3226f-56aa-4cfb-c808-1dd65d3f19ad"
      },
      "id": "OkViAh09Xz1B",
      "execution_count": 22,
      "outputs": [
        {
          "output_type": "stream",
          "name": "stdout",
          "text": [
            "Min: 1,Max: 32,Sum: 48\n"
          ]
        }
      ]
    },
    {
      "cell_type": "code",
      "source": [],
      "metadata": {
        "id": "E2b5btQ2YNE5"
      },
      "id": "E2b5btQ2YNE5",
      "execution_count": null,
      "outputs": []
    }
  ],
  "metadata": {
    "kernelspec": {
      "display_name": "Python 3",
      "language": "python",
      "name": "python3"
    },
    "language_info": {
      "codemirror_mode": {
        "name": "ipython",
        "version": 3
      },
      "file_extension": ".py",
      "mimetype": "text/x-python",
      "name": "python",
      "nbconvert_exporter": "python",
      "pygments_lexer": "ipython3",
      "version": "3.9.7"
    },
    "colab": {
      "provenance": []
    }
  },
  "nbformat": 4,
  "nbformat_minor": 5
}