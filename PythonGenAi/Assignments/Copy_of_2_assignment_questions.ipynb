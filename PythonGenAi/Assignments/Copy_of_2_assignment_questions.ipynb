{
  "cells": [
    {
      "cell_type": "markdown",
      "metadata": {
        "id": "-zAZnrLCX4at"
      },
      "source": [
        "# Module 2: Control Flow Assignments\n",
        "## Lesson 2.1: Conditional Statements\n",
        "### Assignment 1: Simple if Statement\n",
        "\n",
        "Write a program that asks the user to input a number and prints whether the number is positive.\n",
        "\n",
        "### Assignment 2: if-else Statement\n",
        "\n",
        "Write a program that asks the user to input a number and prints whether the number is positive or negative.\n",
        "\n",
        "### Assignment 3: if-elif-else Statement\n",
        "\n",
        "Write a program that asks the user to input a number and prints whether the number is positive, negative, or zero.\n",
        "\n",
        "### Assignment 4: Nested if Statement\n",
        "\n",
        "Write a program that asks the user to input a number and prints whether the number is positive and even, positive and odd, or negative.\n",
        "\n",
        "## Lesson 2.2: Loops\n",
        "### Assignment 5: for Loop\n",
        "\n",
        "Write a program that prints all the numbers from 1 to 10 using a for loop.\n",
        "\n",
        "### Assignment 6: while Loop\n",
        "\n",
        "Write a program that prints all the numbers from 1 to 10 using a while loop.\n",
        "\n",
        "### Assignment 7: Nested Loops\n",
        "\n",
        "Write a program that prints a 5x5 grid of asterisks (*) using nested loops.\n",
        "\n",
        "### Assignment 8: break Statement\n",
        "\n",
        "Write a program that asks the user to input numbers until they input 0. The program should print the sum of all the input numbers.\n",
        "\n",
        "### Assignment 9: continue Statement\n",
        "\n",
        "Write a program that prints all the numbers from 1 to 10 except 5 using a for loop and continue statement.\n",
        "\n",
        "### Assignment 10: pass Statement\n",
        "\n",
        "Write a program that defines an empty function using the pass statement.\n",
        "\n",
        "### Assignment 11: Combining Loops and Conditionals\n",
        "\n",
        "Write a program that asks the user to input a number and prints all the even numbers from 1 to that number using a for loop.\n",
        "\n",
        "### Assignment 12: Factorial Calculation\n",
        "\n",
        "Write a program that calculates the factorial of a number input by the user using a while loop.\n",
        "\n",
        "### Assignment 13: Sum of Digits\n",
        "\n",
        "Write a program that calculates the sum of the digits of a number input by the user using a while loop.\n",
        "\n",
        "### Assignment 14: Prime Number Check\n",
        "\n",
        "Write a program that checks if a number input by the user is a prime number using a for loop.\n",
        "\n",
        "### Assignment 15: Fibonacci Sequence\n",
        "\n",
        "Write a program that prints the first n Fibonacci numbers, where n is input by the user."
      ],
      "id": "-zAZnrLCX4at"
    },
    {
      "cell_type": "markdown",
      "source": [
        "Assignment 1: Simple if Statement\n",
        "Write a program that asks the user to input a number and prints whether the number is positive."
      ],
      "metadata": {
        "id": "PJ0nJdeBYByL"
      },
      "id": "PJ0nJdeBYByL"
    },
    {
      "cell_type": "code",
      "execution_count": null,
      "metadata": {
        "id": "MCEsmDjnX4az",
        "colab": {
          "base_uri": "https://localhost:8080/"
        },
        "outputId": "e6768c8a-3251-4066-db20-a2c53e9046e4"
      },
      "outputs": [
        {
          "output_type": "stream",
          "name": "stdout",
          "text": [
            "enter the number-7\n",
            "Number is negative\n"
          ]
        }
      ],
      "source": [
        "inp=int(input(\"enter the number\"))\n",
        "if(inp>0):\n",
        "  print(\"Number is positive\")\n",
        "elif(inp==0):\n",
        "  print(\"Numer is zero\")\n",
        "else:\n",
        "  print(\"Number is negative\")"
      ],
      "id": "MCEsmDjnX4az"
    },
    {
      "cell_type": "markdown",
      "source": [
        "Assignment 5: for Loop\n",
        "Write a program that prints all the numbers from 1 to 10 using a for loop."
      ],
      "metadata": {
        "id": "YXkzL5oeY-bB"
      },
      "id": "YXkzL5oeY-bB"
    },
    {
      "cell_type": "code",
      "source": [
        "for i in range(1,11):\n",
        "  print(i)"
      ],
      "metadata": {
        "id": "IzcJgo82YNtc",
        "colab": {
          "base_uri": "https://localhost:8080/"
        },
        "outputId": "c1ae2c65-9298-4ce8-9342-da0af63a58c0"
      },
      "id": "IzcJgo82YNtc",
      "execution_count": null,
      "outputs": [
        {
          "output_type": "stream",
          "name": "stdout",
          "text": [
            "1\n",
            "2\n",
            "3\n",
            "4\n",
            "5\n",
            "6\n",
            "7\n",
            "8\n",
            "9\n",
            "10\n"
          ]
        }
      ]
    },
    {
      "cell_type": "code",
      "source": [
        "i=1\n",
        "while i<=10:\n",
        "  print(i)\n",
        "  i+=1"
      ],
      "metadata": {
        "colab": {
          "base_uri": "https://localhost:8080/"
        },
        "id": "tluJMGamZE0G",
        "outputId": "81a62240-2bb6-4886-aa1d-34b0df38a982"
      },
      "id": "tluJMGamZE0G",
      "execution_count": null,
      "outputs": [
        {
          "output_type": "stream",
          "name": "stdout",
          "text": [
            "1\n",
            "2\n",
            "3\n",
            "4\n",
            "5\n",
            "6\n",
            "7\n",
            "8\n",
            "9\n",
            "10\n"
          ]
        }
      ]
    },
    {
      "cell_type": "markdown",
      "source": [
        "Assignment 7: Nested Loops\n",
        "Write a program that prints a 5x5 grid of asterisks (*) using nested loops."
      ],
      "metadata": {
        "id": "fZRqcnR8Za5z"
      },
      "id": "fZRqcnR8Za5z"
    },
    {
      "cell_type": "code",
      "source": [
        "for i in range(5):\n",
        "  for j in range(5):\n",
        "    print(\"*\",end=\" \")\n",
        "  print()"
      ],
      "metadata": {
        "colab": {
          "base_uri": "https://localhost:8080/"
        },
        "id": "bj69cZB7ZL4V",
        "outputId": "347db1cb-9ec6-4d32-ac7a-f98fb1a00907"
      },
      "id": "bj69cZB7ZL4V",
      "execution_count": null,
      "outputs": [
        {
          "output_type": "stream",
          "name": "stdout",
          "text": [
            "* * * * * \n",
            "* * * * * \n",
            "* * * * * \n",
            "* * * * * \n",
            "* * * * * \n"
          ]
        }
      ]
    },
    {
      "cell_type": "code",
      "source": [
        "summ=0\n",
        "while True:\n",
        "  inp=int(input(\"enter number\"))\n",
        "  if(inp==0):\n",
        "    break\n",
        "  print(\"number\",inp)\n",
        "  summ+=inp\n",
        "print(\"sum\",summ)"
      ],
      "metadata": {
        "colab": {
          "base_uri": "https://localhost:8080/"
        },
        "id": "LbUDoUk9ZnR-",
        "outputId": "da4b3b93-99f5-43a8-8332-53cbd5656510"
      },
      "id": "LbUDoUk9ZnR-",
      "execution_count": null,
      "outputs": [
        {
          "output_type": "stream",
          "name": "stdout",
          "text": [
            "enter number4\n",
            "number 4\n",
            "enter number5\n",
            "number 5\n",
            "enter number6\n",
            "number 6\n",
            "enter number2\n",
            "number 2\n",
            "enter number1\n",
            "number 1\n",
            "enter number0\n",
            "sum 18\n"
          ]
        }
      ]
    },
    {
      "cell_type": "code",
      "source": [
        "for i in range(1,11):\n",
        "  if(i==5):\n",
        "    continue\n",
        "  print(i)"
      ],
      "metadata": {
        "colab": {
          "base_uri": "https://localhost:8080/"
        },
        "id": "_nN4gUpabLJC",
        "outputId": "7976e827-4492-4756-85b3-8b20b16772f1"
      },
      "id": "_nN4gUpabLJC",
      "execution_count": null,
      "outputs": [
        {
          "output_type": "stream",
          "name": "stdout",
          "text": [
            "1\n",
            "2\n",
            "3\n",
            "4\n",
            "6\n",
            "7\n",
            "8\n",
            "9\n",
            "10\n"
          ]
        }
      ]
    },
    {
      "cell_type": "code",
      "source": [
        "def my_func(a,b,c):\n",
        "  pass"
      ],
      "metadata": {
        "id": "0TW41hsgbigr"
      },
      "id": "0TW41hsgbigr",
      "execution_count": null,
      "outputs": []
    },
    {
      "cell_type": "code",
      "source": [
        "inp=int(input(\"enter number\"))\n",
        "for i in range(1,inp+1):\n",
        "  if(i%2==0):\n",
        "    print(i)\n"
      ],
      "metadata": {
        "colab": {
          "base_uri": "https://localhost:8080/"
        },
        "id": "lZDh41pRbnqZ",
        "outputId": "2555e8e0-c57e-4300-f787-2f269bae5d3c"
      },
      "id": "lZDh41pRbnqZ",
      "execution_count": null,
      "outputs": [
        {
          "output_type": "stream",
          "name": "stdout",
          "text": [
            "enter number8\n",
            "2\n",
            "4\n",
            "6\n",
            "8\n"
          ]
        }
      ]
    },
    {
      "cell_type": "code",
      "source": [
        "fact=1\n",
        "inp=int(input(\"enter number\"))\n",
        "while inp>0:\n",
        "  fact=fact*inp\n",
        "  inp=inp-1\n",
        "print(fact)"
      ],
      "metadata": {
        "colab": {
          "base_uri": "https://localhost:8080/"
        },
        "id": "CbJ1AWdKb4bq",
        "outputId": "417fc6b1-26b3-48f7-aa00-6102be777d45"
      },
      "id": "CbJ1AWdKb4bq",
      "execution_count": null,
      "outputs": [
        {
          "output_type": "stream",
          "name": "stdout",
          "text": [
            "enter number4\n",
            "24\n"
          ]
        }
      ]
    },
    {
      "cell_type": "code",
      "source": [
        "sum=0\n",
        "inp=int(input(\"enter digits\"))\n",
        "while inp>0:\n",
        "  rem=inp%10\n",
        "  sum=sum+rem\n",
        "  inp=inp//10\n",
        "print(sum)"
      ],
      "metadata": {
        "colab": {
          "base_uri": "https://localhost:8080/"
        },
        "id": "T1MgDYw2cTZa",
        "outputId": "369ab9c2-5714-4d6b-ef3c-0295e4329e9f"
      },
      "id": "T1MgDYw2cTZa",
      "execution_count": null,
      "outputs": [
        {
          "output_type": "stream",
          "name": "stdout",
          "text": [
            "enter digits143\n",
            "8\n"
          ]
        }
      ]
    },
    {
      "cell_type": "code",
      "source": [
        "inp=int(input(\"enter a number\"))\n",
        "for i in range(2,int(inp**0.5)+1):\n",
        "  if(inp%i==0):\n",
        "    print(\"not prime\")\n",
        "    break\n",
        "else:\n",
        "  print(\"prime\")"
      ],
      "metadata": {
        "colab": {
          "base_uri": "https://localhost:8080/"
        },
        "id": "m-NYlHMQc4nv",
        "outputId": "b0f51624-d41b-483d-f61c-65eaed4a8d8b"
      },
      "id": "m-NYlHMQc4nv",
      "execution_count": null,
      "outputs": [
        {
          "output_type": "stream",
          "name": "stdout",
          "text": [
            "enter a number11\n",
            "prime\n",
            "prime\n"
          ]
        }
      ]
    },
    {
      "cell_type": "code",
      "source": [
        "a,b=0,1\n",
        "\n",
        "inp=int(input(\"range\"))\n",
        "print(a,b,end=\" \")\n",
        "for i in range(inp-2):\n",
        "  a,b=b,a+b\n",
        "  print(b)"
      ],
      "metadata": {
        "colab": {
          "base_uri": "https://localhost:8080/"
        },
        "id": "ai6aUjVidS57",
        "outputId": "9baf67d0-803b-4eb6-f0a8-ed7cd19e0a9f"
      },
      "id": "ai6aUjVidS57",
      "execution_count": null,
      "outputs": [
        {
          "output_type": "stream",
          "name": "stdout",
          "text": [
            "range5\n",
            "0 1 1\n",
            "2\n",
            "3\n"
          ]
        }
      ]
    },
    {
      "cell_type": "code",
      "source": [],
      "metadata": {
        "id": "gH-D-ql5eGSH"
      },
      "id": "gH-D-ql5eGSH",
      "execution_count": null,
      "outputs": []
    }
  ],
  "metadata": {
    "kernelspec": {
      "display_name": "Python 3",
      "language": "python",
      "name": "python3"
    },
    "language_info": {
      "codemirror_mode": {
        "name": "ipython",
        "version": 3
      },
      "file_extension": ".py",
      "mimetype": "text/x-python",
      "name": "python",
      "nbconvert_exporter": "python",
      "pygments_lexer": "ipython3",
      "version": "3.9.7"
    },
    "colab": {
      "provenance": []
    }
  },
  "nbformat": 4,
  "nbformat_minor": 5
}