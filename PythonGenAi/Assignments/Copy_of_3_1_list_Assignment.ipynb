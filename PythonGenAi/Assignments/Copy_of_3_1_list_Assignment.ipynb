{
  "cells": [
    {
      "cell_type": "markdown",
      "metadata": {
        "id": "-RQERgxfZ7Pe"
      },
      "source": [
        "# Module 3: Data Structures Assignments\n",
        "## Lesson 3.1: Lists\n",
        "### Assignment 1: Creating and Accessing Lists\n",
        "\n",
        "Create a list of the first 20 positive integers. Print the list.\n",
        "\n",
        "### Assignment 2: Accessing List Elements\n",
        "\n",
        "Print the first, middle, and last elements of the list created in Assignment 1.\n",
        "\n",
        "### Assignment 3: List Slicing\n",
        "\n",
        "Print the first five elements, the last five elements, and the elements from index 5 to 15 of the list created in Assignment 1.\n",
        "\n",
        "### Assignment 4: List Comprehensions\n",
        "\n",
        "Create a new list containing the squares of the first 10 positive integers using a list comprehension. Print the new list.\n",
        "\n",
        "### Assignment 5: Filtering Lists\n",
        "\n",
        "Create a new list containing only the even numbers from the list created in Assignment 1 using a list comprehension. Print the new list.\n",
        "\n",
        "### Assignment 6: List Methods\n",
        "\n",
        "Create a list of random numbers and sort it in ascending and descending order. Remove the duplicates from the list and print the modified list.\n",
        "\n",
        "### Assignment 7: Nested Lists\n",
        "\n",
        "Create a nested list representing a 3x3 matrix and print the matrix. Access and print the element at the second row and third column.\n",
        "\n",
        "### Assignment 8: List of Dictionaries\n",
        "\n",
        "Create a list of dictionaries where each dictionary represents a student with keys 'name' and 'score'. Sort the list of dictionaries by the 'score' in descending order and print the sorted list.\n",
        "\n",
        "### Assignment 9: Matrix Transposition\n",
        "\n",
        "Write a function that takes a 3x3 matrix (nested list) as input and returns its transpose. Print the original and transposed matrices.\n",
        "\n",
        "### Assignment 10: Flattening a Nested List\n",
        "\n",
        "Write a function that takes a nested list and flattens it into a single list. Print the original and flattened lists.\n",
        "\n",
        "### Assignment 11: List Manipulation\n",
        "\n",
        "Create a list of the first 10 positive integers. Remove the elements at indices 2, 4, and 6, and insert the element '99' at index 5. Print the modified list.\n",
        "\n",
        "### Assignment 12: List Zipping\n",
        "\n",
        "Create two lists of the same length. Use the `zip` function to combine these lists into a list of tuples and print the result.\n",
        "\n",
        "### Assignment 13: List Reversal\n",
        "\n",
        "Write a function that takes a list and returns a new list with the elements in reverse order. Print the original and reversed lists.\n",
        "\n",
        "### Assignment 14: List Rotation\n",
        "\n",
        "Write a function that rotates a list by n positions. Print the original and rotated lists.\n",
        "\n",
        "### Assignment 15: List Intersection\n",
        "\n",
        "Write a function that takes two lists and returns a new list containing only the elements that are present in both lists. Print the intersected list."
      ],
      "id": "-RQERgxfZ7Pe"
    },
    {
      "cell_type": "code",
      "source": [],
      "metadata": {
        "id": "t4x63jWULneW"
      },
      "id": "t4x63jWULneW",
      "execution_count": null,
      "outputs": []
    },
    {
      "cell_type": "code",
      "execution_count": null,
      "metadata": {
        "id": "b3eSjLPLZ7Pi",
        "colab": {
          "base_uri": "https://localhost:8080/"
        },
        "outputId": "17c63242-7ece-4bf0-fb5c-6ad8101250ee"
      },
      "outputs": [
        {
          "output_type": "stream",
          "name": "stdout",
          "text": [
            "[1, 2, 3, 4, 5, 6, 7, 8, 9, 10, 11, 12, 13, 14, 15, 16, 17, 18, 19, 20]\n"
          ]
        }
      ],
      "source": [
        "lis=[x for x in range(1,21)]\n",
        "print(lis)"
      ],
      "id": "b3eSjLPLZ7Pi"
    },
    {
      "cell_type": "code",
      "source": [
        "print(lis[0],lis[len(lis)//2],lis[-1])"
      ],
      "metadata": {
        "id": "BnoT3Vb1fD_u",
        "colab": {
          "base_uri": "https://localhost:8080/"
        },
        "outputId": "ce3201b2-9c46-450b-c2d0-1c9471cdd133"
      },
      "id": "BnoT3Vb1fD_u",
      "execution_count": null,
      "outputs": [
        {
          "output_type": "stream",
          "name": "stdout",
          "text": [
            "1 11 20\n"
          ]
        }
      ]
    },
    {
      "cell_type": "code",
      "source": [
        "print(lis[:5])"
      ],
      "metadata": {
        "colab": {
          "base_uri": "https://localhost:8080/"
        },
        "id": "8F6TMMkHfblK",
        "outputId": "c93951a2-0b51-4235-f18c-2bf8cd12f4d5"
      },
      "id": "8F6TMMkHfblK",
      "execution_count": null,
      "outputs": [
        {
          "output_type": "stream",
          "name": "stdout",
          "text": [
            "[1, 2, 3, 4, 5]\n"
          ]
        }
      ]
    },
    {
      "cell_type": "code",
      "source": [
        "squares=[x**2 for x in range(1,11)]\n",
        "print(squares)"
      ],
      "metadata": {
        "id": "N16oYNLLfvQh",
        "colab": {
          "base_uri": "https://localhost:8080/"
        },
        "outputId": "d7bfc051-1a8e-4b88-d991-0931ac426e90"
      },
      "id": "N16oYNLLfvQh",
      "execution_count": 2,
      "outputs": [
        {
          "output_type": "stream",
          "name": "stdout",
          "text": [
            "[1, 4, 9, 16, 25, 36, 49, 64, 81, 100]\n"
          ]
        }
      ]
    },
    {
      "cell_type": "code",
      "source": [
        "lis1=[x for x in range(1,10)]\n",
        "lis2=[x for x in lis1 if x%2==0]\n",
        "print(lis2)"
      ],
      "metadata": {
        "colab": {
          "base_uri": "https://localhost:8080/"
        },
        "id": "O7WJ-ZugHAqM",
        "outputId": "9b6b7b55-08cd-4a64-ae5d-feba0143e507"
      },
      "id": "O7WJ-ZugHAqM",
      "execution_count": 4,
      "outputs": [
        {
          "output_type": "stream",
          "name": "stdout",
          "text": [
            "[2, 4, 6, 8]\n"
          ]
        }
      ]
    },
    {
      "cell_type": "code",
      "source": [
        "lis=[1,4,3,6,7,2]\n",
        "lis.sort(reverse=True)\n",
        "print(lis)"
      ],
      "metadata": {
        "colab": {
          "base_uri": "https://localhost:8080/"
        },
        "id": "9bpaiEyMIN_a",
        "outputId": "6377a0d2-9911-44d1-8cc2-146c7cc404db"
      },
      "id": "9bpaiEyMIN_a",
      "execution_count": 7,
      "outputs": [
        {
          "output_type": "stream",
          "name": "stdout",
          "text": [
            "[7, 6, 4, 3, 2, 1]\n"
          ]
        }
      ]
    },
    {
      "cell_type": "code",
      "source": [
        "lis=[]\n",
        "for i in range(3):\n",
        "  a=list(map(int,input().split()))\n",
        "  lis.append(a)\n",
        "print(lis)\n",
        "\n",
        "print(lis[1][2])\n",
        "\n",
        ""
      ],
      "metadata": {
        "colab": {
          "base_uri": "https://localhost:8080/"
        },
        "id": "tW0DPGtxLo9L",
        "outputId": "554fa5f3-19d0-4502-e6fc-f43e94650acf"
      },
      "id": "tW0DPGtxLo9L",
      "execution_count": 12,
      "outputs": [
        {
          "output_type": "stream",
          "name": "stdout",
          "text": [
            "1 2 3\n",
            "4 5 6\n",
            "7 8 9\n",
            "[[1, 2, 3], [4, 5, 6], [7, 8, 9]]\n"
          ]
        }
      ]
    },
    {
      "cell_type": "code",
      "source": [
        "students = [\n",
        "    {\"name\": \"shyam\", \"score\": 90},\n",
        "    {\"name\": \"singha\", \"score\": 67},\n",
        "    {\"name\": \"roy\", \"score\": 88}\n",
        "]\n",
        "sorted_students = sorted(students, key=lambda x: x['score'], reverse=True)\n",
        "print(\"Students sorted by score (descending):\")\n",
        "for student in sorted_students:\n",
        "    print(student)"
      ],
      "metadata": {
        "colab": {
          "base_uri": "https://localhost:8080/"
        },
        "id": "rklVL0dcMPko",
        "outputId": "8e657da1-86d2-4977-b778-b74c5e96eaab"
      },
      "id": "rklVL0dcMPko",
      "execution_count": 14,
      "outputs": [
        {
          "output_type": "stream",
          "name": "stdout",
          "text": [
            "Students sorted by score (descending):\n",
            "{'name': 'shyam', 'score': 90}\n",
            "{'name': 'roy', 'score': 88}\n",
            "{'name': 'singha', 'score': 67}\n"
          ]
        }
      ]
    },
    {
      "cell_type": "code",
      "source": [
        "def transpose(matrix):\n",
        "    return [[matrix[j][i] for j in range(3)] for i in range(3)]\n",
        "original = []\n",
        "for i in range(3):\n",
        "  a=list(map(int,input().split()))\n",
        "  original.append(a)\n",
        "print(\"Original:\")\n",
        "for row in original:\n",
        "    print(row)\n",
        "transposed = transpose(original)\n",
        "print(\"Transposed:\")\n",
        "for row in transposed:\n",
        "    print(row)"
      ],
      "metadata": {
        "colab": {
          "base_uri": "https://localhost:8080/"
        },
        "id": "Q-d4dBzxNmJ2",
        "outputId": "f2010f46-eb8e-4d9b-9db6-b7354872c79a"
      },
      "id": "Q-d4dBzxNmJ2",
      "execution_count": 15,
      "outputs": [
        {
          "output_type": "stream",
          "name": "stdout",
          "text": [
            "1 2 3 \n",
            "4 5 6\n",
            "7 8 9\n",
            "Original:\n",
            "[1, 2, 3]\n",
            "[4, 5, 6]\n",
            "[7, 8, 9]\n",
            "Transposed:\n",
            "[1, 4, 7]\n",
            "[2, 5, 8]\n",
            "[3, 6, 9]\n"
          ]
        }
      ]
    },
    {
      "cell_type": "code",
      "source": [
        "def flatten(nested):\n",
        "    flatn = []\n",
        "    for sublist in nested:\n",
        "        flatn.extend(sublist)\n",
        "    return flatn\n",
        "nested_list = [[1, 5], [3,8], [5, 3]]\n",
        "flat_list = flatten(nested_list)\n",
        "print(\"Original:\", nested_list)\n",
        "print(\"Flattened:\", flat_list)\n"
      ],
      "metadata": {
        "colab": {
          "base_uri": "https://localhost:8080/"
        },
        "id": "47OZ3gOzONtb",
        "outputId": "0e6d44ea-c145-4493-bc04-35515b5019ca"
      },
      "id": "47OZ3gOzONtb",
      "execution_count": 16,
      "outputs": [
        {
          "output_type": "stream",
          "name": "stdout",
          "text": [
            "Original: [[1, 5], [3, 8], [5, 3]]\n",
            "Flattened: [1, 5, 3, 8, 5, 3]\n"
          ]
        }
      ]
    },
    {
      "cell_type": "code",
      "source": [
        "nums = list(range(1, 11))\n",
        "del nums[6]\n",
        "del nums[4]\n",
        "del nums[2]\n",
        "nums.insert(5, 99)\n",
        "print(\"Modified list:\", nums)\n"
      ],
      "metadata": {
        "colab": {
          "base_uri": "https://localhost:8080/"
        },
        "id": "seoN8nUnO1So",
        "outputId": "057a61f6-858f-42f9-ab91-1866e2af3f8a"
      },
      "id": "seoN8nUnO1So",
      "execution_count": 19,
      "outputs": [
        {
          "output_type": "stream",
          "name": "stdout",
          "text": [
            "Modified list: [1, 2, 4, 6, 8, 99, 9, 10]\n"
          ]
        }
      ]
    },
    {
      "cell_type": "code",
      "source": [
        "a = ['a', 'b', 'c']\n",
        "b = [1, 2, 3]\n",
        "zipped = list(zip(a, b))\n",
        "print(\"Zipped list:\", zipped)"
      ],
      "metadata": {
        "colab": {
          "base_uri": "https://localhost:8080/"
        },
        "id": "CsnV6wtSPB66",
        "outputId": "5fc7e4b5-1403-4d02-d049-13dee2e887d5"
      },
      "id": "CsnV6wtSPB66",
      "execution_count": 20,
      "outputs": [
        {
          "output_type": "stream",
          "name": "stdout",
          "text": [
            "Zipped list: [('a', 1), ('b', 2), ('c', 3)]\n"
          ]
        }
      ]
    },
    {
      "cell_type": "code",
      "source": [
        "def reverse(lst):\n",
        "    return lst[::-1]\n",
        "original = [1, 2, 3, 4, 5]\n",
        "reversed_lst = reverse(original)\n",
        "print(\"Original:\", original)\n",
        "print(\"Reversed:\", reversed_lst)"
      ],
      "metadata": {
        "colab": {
          "base_uri": "https://localhost:8080/"
        },
        "id": "MzkKgXnoPFPd",
        "outputId": "dc468cee-ade8-40e6-b313-bdf60764d94d"
      },
      "id": "MzkKgXnoPFPd",
      "execution_count": 21,
      "outputs": [
        {
          "output_type": "stream",
          "name": "stdout",
          "text": [
            "Original: [1, 2, 3, 4, 5]\n",
            "Reversed: [5, 4, 3, 2, 1]\n"
          ]
        }
      ]
    },
    {
      "cell_type": "code",
      "source": [
        "def rotate_list(lst, n):\n",
        "    n = n % len(lst)\n",
        "    return lst[n:] + lst[:n]\n",
        "original = [1, 2, 3, 4, 5]\n",
        "rotated = rotate_list(original, 2)\n",
        "print(\"Original:\", original)\n",
        "print(\"Rotated:\", rotated)"
      ],
      "metadata": {
        "colab": {
          "base_uri": "https://localhost:8080/"
        },
        "id": "FMD1JMvlPSgK",
        "outputId": "e6c6e6db-800d-43db-d249-62327028cef0"
      },
      "id": "FMD1JMvlPSgK",
      "execution_count": 23,
      "outputs": [
        {
          "output_type": "stream",
          "name": "stdout",
          "text": [
            "Original: [1, 2, 3, 4, 5]\n",
            "Rotated: [3, 4, 5, 1, 2]\n"
          ]
        }
      ]
    },
    {
      "cell_type": "code",
      "source": [
        "def intersect(list1, list2):\n",
        "    return [x for x in list1 if x in list2]\n",
        "a = [1, 2, 3, 4]\n",
        "b = [3, 4, 5, 6]\n",
        "common = intersect(a, b)\n",
        "print(\"Intersection:\", common)"
      ],
      "metadata": {
        "colab": {
          "base_uri": "https://localhost:8080/"
        },
        "id": "FQ1_xlgBP2e5",
        "outputId": "e5999066-b399-4a00-8ad4-3be2a4a90e99"
      },
      "id": "FQ1_xlgBP2e5",
      "execution_count": 24,
      "outputs": [
        {
          "output_type": "stream",
          "name": "stdout",
          "text": [
            "Intersection: [3, 4]\n"
          ]
        }
      ]
    },
    {
      "cell_type": "code",
      "source": [],
      "metadata": {
        "id": "7NE5YvYmP-oF"
      },
      "id": "7NE5YvYmP-oF",
      "execution_count": null,
      "outputs": []
    }
  ],
  "metadata": {
    "kernelspec": {
      "display_name": "Python 3",
      "language": "python",
      "name": "python3"
    },
    "language_info": {
      "codemirror_mode": {
        "name": "ipython",
        "version": 3
      },
      "file_extension": ".py",
      "mimetype": "text/x-python",
      "name": "python",
      "nbconvert_exporter": "python",
      "pygments_lexer": "ipython3",
      "version": "3.9.7"
    },
    "colab": {
      "provenance": []
    }
  },
  "nbformat": 4,
  "nbformat_minor": 5
}