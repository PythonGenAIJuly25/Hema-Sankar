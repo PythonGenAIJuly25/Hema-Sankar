{
  "cells": [
    {
      "cell_type": "markdown",
      "metadata": {
        "id": "d9-N9lyAzqpM"
      },
      "source": [
        "# Module 3: Data Structures Assignments\n",
        "## Lesson 3.3: Sets\n",
        "### Assignment 1: Creating and Accessing Sets\n",
        "\n",
        "Create a set with the first 10 positive integers. Print the set.\n",
        "\n",
        "### Assignment 2: Adding and Removing Elements\n",
        "\n",
        "Add the number 11 to the set created in Assignment 1. Then remove the number 1 from the set. Print the modified set.\n",
        "\n",
        "### Assignment 3: Set Operations\n",
        "\n",
        "Create two sets: one with the first 5 positive integers and another with the first 5 even integers. Perform and print the results of union, intersection, difference, and symmetric difference operations on these sets.\n",
        "\n",
        "### Assignment 4: Set Comprehensions\n",
        "\n",
        "Create a new set containing the squares of the first 10 positive integers using a set comprehension. Print the new set.\n",
        "\n",
        "### Assignment 5: Filtering Sets\n",
        "\n",
        "Create a new set containing only the even numbers from the set created in Assignment 1 using a set comprehension. Print the new set.\n",
        "\n",
        "### Assignment 6: Set Methods\n",
        "\n",
        "Create a set with duplicate elements and remove the duplicates using set methods. Print the modified set.\n",
        "\n",
        "### Assignment 7: Subsets and Supersets\n",
        "\n",
        "Create two sets: one with the first 5 positive integers and another with the first 3 positive integers. Check if the second set is a subset of the first set and if the first set is a superset of the second set. Print the results.\n",
        "\n",
        "### Assignment 8: Frozenset\n",
        "\n",
        "Create a frozenset with the first 5 positive integers. Print the frozenset.\n",
        "\n",
        "### Assignment 9: Set and List Conversion\n",
        "\n",
        "Create a set with the first 5 positive integers. Convert it to a list, append the number 6, and convert it back to a set. Print the resulting set.\n",
        "\n",
        "### Assignment 10: Set and Dictionary\n",
        "\n",
        "Create a dictionary with set keys and integer values. Print the dictionary.\n",
        "\n",
        "### Assignment 11: Iterating Over Sets\n",
        "\n",
        "Create a set and iterate over the elements, printing each element.\n",
        "\n",
        "### Assignment 12: Removing Elements from Sets\n",
        "\n",
        "Create a set and remove elements from it until it is empty. Print the set after each removal.\n",
        "\n",
        "### Assignment 13: Set Symmetric Difference Update\n",
        "\n",
        "Create two sets and update the first set with the symmetric difference of the two sets. Print the modified first set.\n",
        "\n",
        "### Assignment 14: Set Membership Testing\n",
        "\n",
        "Create a set and test if certain elements are present in the set. Print the results.\n",
        "\n",
        "### Assignment 15: Set of Tuples\n",
        "\n",
        "Create a set containing tuples, where each tuple contains two elements. Print the set."
      ],
      "id": "d9-N9lyAzqpM"
    },
    {
      "cell_type": "markdown",
      "source": [
        "ASSIGNMENT 1"
      ],
      "metadata": {
        "id": "j9nCXcXD0ruO"
      },
      "id": "j9nCXcXD0ruO"
    },
    {
      "cell_type": "code",
      "execution_count": null,
      "metadata": {
        "colab": {
          "base_uri": "https://localhost:8080/"
        },
        "id": "mCpkw76xzqpS",
        "outputId": "48183f00-ea8b-479b-9f4d-3d834ad5b032"
      },
      "outputs": [
        {
          "output_type": "stream",
          "name": "stdout",
          "text": [
            "{1, 2, 3, 4, 5, 6, 7, 8, 9, 10}\n"
          ]
        }
      ],
      "source": [
        "#assign 1\n",
        "set1={x for x in range(1,11)}\n",
        "print(set1)"
      ],
      "id": "mCpkw76xzqpS"
    },
    {
      "cell_type": "markdown",
      "source": [
        "ASSIGNMENT 2"
      ],
      "metadata": {
        "id": "DkMBShNi0pvG"
      },
      "id": "DkMBShNi0pvG"
    },
    {
      "cell_type": "code",
      "source": [
        "set1.add(11)\n",
        "set1.remove(1)\n",
        "print(set1)"
      ],
      "metadata": {
        "colab": {
          "base_uri": "https://localhost:8080/"
        },
        "id": "HisAx6y3z6P5",
        "outputId": "cef8983f-839a-47f6-b43c-48074fec51cd"
      },
      "id": "HisAx6y3z6P5",
      "execution_count": null,
      "outputs": [
        {
          "output_type": "stream",
          "name": "stdout",
          "text": [
            "{2, 3, 4, 5, 6, 7, 8, 9, 10, 11}\n"
          ]
        }
      ]
    },
    {
      "cell_type": "markdown",
      "source": [
        "ASSIGNMENT 3"
      ],
      "metadata": {
        "id": "h-dfmYUL0tOv"
      },
      "id": "h-dfmYUL0tOv"
    },
    {
      "cell_type": "code",
      "source": [
        "set1={1,2,3,4,5}\n",
        "set2={2,4,6,8,10}\n",
        "print(\"UNION\",set1.union(set2))\n",
        "print(\"INTERSECTION\",set1.intersection(set2))\n",
        "print(\"DIFFERENCE\",set1.difference(set2))\n",
        "print(\"SYMMETRIC_DIFFERENCE\",set1.symmetric_difference(set2))\n"
      ],
      "metadata": {
        "colab": {
          "base_uri": "https://localhost:8080/"
        },
        "id": "TBEmOnBe0TzJ",
        "outputId": "e8d71d23-2c2d-4f5a-a361-db143d7b224b"
      },
      "id": "TBEmOnBe0TzJ",
      "execution_count": null,
      "outputs": [
        {
          "output_type": "stream",
          "name": "stdout",
          "text": [
            "UNION {1, 2, 3, 4, 5, 6, 8, 10}\n",
            "INTERSECTION {2, 4}\n",
            "DIFFERENCE {1, 3, 5}\n",
            "SYMMETRIC_DIFFERENCE {1, 3, 5, 6, 8, 10}\n"
          ]
        }
      ]
    },
    {
      "cell_type": "markdown",
      "source": [
        "ASSIGNMENT 4"
      ],
      "metadata": {
        "id": "v1xLSZ4n0wHN"
      },
      "id": "v1xLSZ4n0wHN"
    },
    {
      "cell_type": "code",
      "source": [
        "sq_set={x**2 for x in range(1,11)}\n",
        "print(sq_set)"
      ],
      "metadata": {
        "colab": {
          "base_uri": "https://localhost:8080/"
        },
        "id": "QDcrAJXY0vPZ",
        "outputId": "f8d9baac-176d-47a1-e76e-de9cb9dfe836"
      },
      "id": "QDcrAJXY0vPZ",
      "execution_count": null,
      "outputs": [
        {
          "output_type": "stream",
          "name": "stdout",
          "text": [
            "{64, 1, 4, 36, 100, 9, 16, 49, 81, 25}\n"
          ]
        }
      ]
    },
    {
      "cell_type": "markdown",
      "source": [
        "ASSIGNMENT 5"
      ],
      "metadata": {
        "id": "pPv86TCV1cPi"
      },
      "id": "pPv86TCV1cPi"
    },
    {
      "cell_type": "code",
      "source": [
        "set1={x for x in range(1,11)}\n",
        "even_set={x for x in set1 if x%2==0}\n",
        "print(even_set)"
      ],
      "metadata": {
        "colab": {
          "base_uri": "https://localhost:8080/"
        },
        "id": "bxmarunK1GO3",
        "outputId": "6152b84d-8e18-4dc4-dcc2-00bb45108e89"
      },
      "id": "bxmarunK1GO3",
      "execution_count": null,
      "outputs": [
        {
          "output_type": "stream",
          "name": "stdout",
          "text": [
            "{2, 4, 6, 8, 10}\n"
          ]
        }
      ]
    },
    {
      "cell_type": "markdown",
      "source": [
        "ASSIGNMENT 6"
      ],
      "metadata": {
        "id": "2nyIgRWE1fKQ"
      },
      "id": "2nyIgRWE1fKQ"
    },
    {
      "cell_type": "code",
      "source": [
        "dup_set={1,2,3,4,5,6,5,4,3,2,1}\n",
        "print(dup_set)"
      ],
      "metadata": {
        "colab": {
          "base_uri": "https://localhost:8080/"
        },
        "id": "0fxpX8071igD",
        "outputId": "72c33362-f652-4678-cfdc-1f34bd624a49"
      },
      "id": "0fxpX8071igD",
      "execution_count": null,
      "outputs": [
        {
          "output_type": "stream",
          "name": "stdout",
          "text": [
            "{1, 2, 3, 4, 5, 6}\n"
          ]
        }
      ]
    },
    {
      "cell_type": "markdown",
      "source": [
        "ASSIGNMENT 7"
      ],
      "metadata": {
        "id": "-peSUgxw143O"
      },
      "id": "-peSUgxw143O"
    },
    {
      "cell_type": "code",
      "source": [
        "s1={1,2,3,4,5}\n",
        "s2={1,2,3}\n",
        "print(s2.issubset(s1))\n",
        "print(s1.issuperset(s2))"
      ],
      "metadata": {
        "colab": {
          "base_uri": "https://localhost:8080/"
        },
        "id": "2vTsrRxt1v2i",
        "outputId": "8d84a954-c9d4-4a84-cc9c-2e9a9675249f"
      },
      "id": "2vTsrRxt1v2i",
      "execution_count": null,
      "outputs": [
        {
          "output_type": "stream",
          "name": "stdout",
          "text": [
            "True\n",
            "True\n"
          ]
        }
      ]
    },
    {
      "cell_type": "markdown",
      "source": [],
      "metadata": {
        "id": "tEau6YO32nX1"
      },
      "id": "tEau6YO32nX1"
    },
    {
      "cell_type": "markdown",
      "source": [
        "ASSIGNMENT 8"
      ],
      "metadata": {
        "id": "cvHmWoGWC_Ew"
      },
      "id": "cvHmWoGWC_Ew"
    },
    {
      "cell_type": "code",
      "source": [
        "fs=frozenset({1,2,3,4,5})\n",
        "print(fs)\n"
      ],
      "metadata": {
        "colab": {
          "base_uri": "https://localhost:8080/"
        },
        "id": "jXDR7yr12gWW",
        "outputId": "d4e895b9-7dd5-46ef-b0fc-b2b0242bb1ba"
      },
      "id": "jXDR7yr12gWW",
      "execution_count": null,
      "outputs": [
        {
          "output_type": "stream",
          "name": "stdout",
          "text": [
            "frozenset({1, 2, 3, 4, 5})\n"
          ]
        }
      ]
    },
    {
      "cell_type": "markdown",
      "source": [
        "ASSIGNMENT 9"
      ],
      "metadata": {
        "id": "rbuwwDNvDmyV"
      },
      "id": "rbuwwDNvDmyV"
    },
    {
      "cell_type": "code",
      "source": [
        "set1={1,2,3,4,5}\n",
        "list1=list(set1)\n",
        "list1.append(6)\n",
        "print(type(list1))\n",
        "set2=set(list1)\n",
        "print(type(set2))\n",
        "print(set2)"
      ],
      "metadata": {
        "colab": {
          "base_uri": "https://localhost:8080/"
        },
        "id": "xCqBE5f7DO_n",
        "outputId": "39cd8a6f-d0ef-4d4a-fdb4-f562c4bf5ff3"
      },
      "id": "xCqBE5f7DO_n",
      "execution_count": null,
      "outputs": [
        {
          "output_type": "stream",
          "name": "stdout",
          "text": [
            "<class 'list'>\n",
            "<class 'set'>\n",
            "{1, 2, 3, 4, 5, 6}\n"
          ]
        }
      ]
    },
    {
      "cell_type": "markdown",
      "source": [
        "ASSIGNENT 10"
      ],
      "metadata": {
        "id": "BfjVSCVTEAhl"
      },
      "id": "BfjVSCVTEAhl"
    },
    {
      "cell_type": "code",
      "source": [
        "d = {\n",
        "    frozenset({1, 2}): {3, 4},\n",
        "    frozenset({5, 6}): {7, 8}\n",
        "}\n",
        "print(d.values())"
      ],
      "metadata": {
        "colab": {
          "base_uri": "https://localhost:8080/"
        },
        "id": "H21ImUeCD0Gm",
        "outputId": "2e1e2356-b298-49d9-aeab-a8213c385603"
      },
      "id": "H21ImUeCD0Gm",
      "execution_count": null,
      "outputs": [
        {
          "output_type": "stream",
          "name": "stdout",
          "text": [
            "dict_values([{3, 4}, {8, 7}])\n"
          ]
        }
      ]
    },
    {
      "cell_type": "markdown",
      "source": [
        "ASSIGNMENT 11"
      ],
      "metadata": {
        "id": "Ix4NLGanExOn"
      },
      "id": "Ix4NLGanExOn"
    },
    {
      "cell_type": "code",
      "source": [
        "new={1,2,3,4,5,6,7,8,9}\n",
        "for i in new:\n",
        "  print(i)\n"
      ],
      "metadata": {
        "colab": {
          "base_uri": "https://localhost:8080/"
        },
        "id": "KWbXq36tErmz",
        "outputId": "8cc68be8-769e-42c6-8f88-cdc55030c1c0"
      },
      "id": "KWbXq36tErmz",
      "execution_count": null,
      "outputs": [
        {
          "output_type": "stream",
          "name": "stdout",
          "text": [
            "1\n",
            "2\n",
            "3\n",
            "4\n",
            "5\n",
            "6\n",
            "7\n",
            "8\n",
            "9\n"
          ]
        }
      ]
    },
    {
      "cell_type": "markdown",
      "source": [
        "ASSIGNMENT 12"
      ],
      "metadata": {
        "id": "RZcINSZrFO-d"
      },
      "id": "RZcINSZrFO-d"
    },
    {
      "cell_type": "code",
      "source": [
        "SET_EMP={x for x in range(11)}\n",
        "for i in range(len(SET_EMP)):\n",
        "  SET_EMP.remove(i)\n",
        "  print(\"remaning elements:\",SET_EMP)\n",
        "print(SET_EMP)"
      ],
      "metadata": {
        "colab": {
          "base_uri": "https://localhost:8080/"
        },
        "id": "GFuQbt2PE_sF",
        "outputId": "ce8e2147-09ab-43a1-dcbb-4b573f0cda07"
      },
      "id": "GFuQbt2PE_sF",
      "execution_count": null,
      "outputs": [
        {
          "output_type": "stream",
          "name": "stdout",
          "text": [
            "remaning elements: {1, 2, 3, 4, 5, 6, 7, 8, 9, 10}\n",
            "remaning elements: {2, 3, 4, 5, 6, 7, 8, 9, 10}\n",
            "remaning elements: {3, 4, 5, 6, 7, 8, 9, 10}\n",
            "remaning elements: {4, 5, 6, 7, 8, 9, 10}\n",
            "remaning elements: {5, 6, 7, 8, 9, 10}\n",
            "remaning elements: {6, 7, 8, 9, 10}\n",
            "remaning elements: {7, 8, 9, 10}\n",
            "remaning elements: {8, 9, 10}\n",
            "remaning elements: {9, 10}\n",
            "remaning elements: {10}\n",
            "remaning elements: set()\n",
            "set()\n"
          ]
        }
      ]
    },
    {
      "cell_type": "markdown",
      "source": [
        "ASSIGNENT 13"
      ],
      "metadata": {
        "id": "yN3scMB0Gchd"
      },
      "id": "yN3scMB0Gchd"
    },
    {
      "cell_type": "code",
      "source": [
        "set1={1,5,4,3,6}\n",
        "set2={1,6,5,8,9}\n",
        "set1.symmetric_difference_update(set2)\n",
        "print(set1)"
      ],
      "metadata": {
        "colab": {
          "base_uri": "https://localhost:8080/"
        },
        "id": "rr1eB5gVG8Vi",
        "outputId": "ab9310e1-a5ff-447a-c77a-360bc330d02b"
      },
      "id": "rr1eB5gVG8Vi",
      "execution_count": null,
      "outputs": [
        {
          "output_type": "stream",
          "name": "stdout",
          "text": [
            "{3, 4, 8, 9}\n"
          ]
        }
      ]
    },
    {
      "cell_type": "markdown",
      "source": [
        "ASSIGNMENT 14"
      ],
      "metadata": {
        "id": "JB5-wSIlJdVJ"
      },
      "id": "JB5-wSIlJdVJ"
    },
    {
      "cell_type": "code",
      "source": [
        "set1={1,2,3,5,7,10,43}\n",
        "numbers=[4,3,1,0,7,6]\n",
        "for i in numbers:\n",
        "  if i in set1:\n",
        "    print(f\"{i} is found in set\")\n",
        "  else:\n",
        "    print(f\"{i} not found in set\")"
      ],
      "metadata": {
        "colab": {
          "base_uri": "https://localhost:8080/"
        },
        "id": "qsdkFXpAHFge",
        "outputId": "bdfa1bff-5a63-487e-d730-13173e4f5a7a"
      },
      "id": "qsdkFXpAHFge",
      "execution_count": null,
      "outputs": [
        {
          "output_type": "stream",
          "name": "stdout",
          "text": [
            "4 not found in set\n",
            "3 is found in set\n",
            "1 is found in set\n",
            "0 not found in set\n",
            "7 is found in set\n",
            "6 not found in set\n"
          ]
        }
      ]
    },
    {
      "cell_type": "markdown",
      "source": [
        "ASSIGNMENT 15"
      ],
      "metadata": {
        "id": "uf9JrYh2LArJ"
      },
      "id": "uf9JrYh2LArJ"
    },
    {
      "cell_type": "code",
      "source": [
        "set1={(1,2),(3,4),(4,5),(6,7)}\n",
        "print(set1)"
      ],
      "metadata": {
        "colab": {
          "base_uri": "https://localhost:8080/"
        },
        "id": "mbBzED6oK8qy",
        "outputId": "9f14defd-cce6-4f0b-afe4-e87cd6072c75"
      },
      "id": "mbBzED6oK8qy",
      "execution_count": null,
      "outputs": [
        {
          "output_type": "stream",
          "name": "stdout",
          "text": [
            "{(6, 7), (4, 5), (1, 2), (3, 4)}\n"
          ]
        }
      ]
    },
    {
      "cell_type": "code",
      "source": [],
      "metadata": {
        "id": "djXdaGZTLZcB"
      },
      "id": "djXdaGZTLZcB",
      "execution_count": null,
      "outputs": []
    }
  ],
  "metadata": {
    "kernelspec": {
      "display_name": "Python 3",
      "language": "python",
      "name": "python3"
    },
    "language_info": {
      "codemirror_mode": {
        "name": "ipython",
        "version": 3
      },
      "file_extension": ".py",
      "mimetype": "text/x-python",
      "name": "python",
      "nbconvert_exporter": "python",
      "pygments_lexer": "ipython3",
      "version": "3.9.7"
    },
    "colab": {
      "provenance": []
    }
  },
  "nbformat": 4,
  "nbformat_minor": 5
}