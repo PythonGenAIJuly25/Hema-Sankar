{
  "cells": [
    {
      "cell_type": "markdown",
      "metadata": {
        "id": "iZ-uFXGdbZm7"
      },
      "source": [
        "# Module 4: Functions Assignments\n",
        "## Lesson 4.1: Defining Functions\n",
        "### Assignment 1: Simple Function\n",
        "\n",
        "Define a function that takes a single integer as input and returns its square. Test the function with different inputs.\n",
        "\n",
        "### Assignment 2: Multiple Arguments\n",
        "\n",
        "Define a function that takes two integers as input and returns their sum. Test the function with different inputs.\n",
        "\n",
        "### Assignment 3: Default Arguments\n",
        "\n",
        "Define a function that takes two integers as input and returns their sum. The second integer should have a default value of 5. Test the function with different inputs.\n",
        "\n",
        "### Assignment 4: Keyword Arguments\n",
        "\n",
        "Define a function that takes three named arguments: first_name, last_name, and age, and returns a formatted string. Test the function with different inputs.\n",
        "\n",
        "### Assignment 5: Variable-length Arguments\n",
        "\n",
        "Define a function that takes a variable number of integer arguments and returns their product. Test the function with different inputs.\n",
        "\n",
        "### Assignment 6: Nested Functions\n",
        "\n",
        "Define a function that contains another function inside it. The outer function should take two integers as input and return the result of the inner function, which multiplies the two integers. Test the function with different inputs.\n",
        "\n",
        "### Assignment 7: Returning Multiple Values\n",
        "\n",
        "Define a function that takes a single integer as input and returns the integer squared, cubed, and raised to the power of four. Test the function with different inputs.\n",
        "\n",
        "### Assignment 8: Recursive Function\n",
        "\n",
        "Define a recursive function that calculates the factorial of a given number. Test the function with different inputs.\n",
        "\n",
        "### Assignment 9: Lambda Function\n",
        "\n",
        "Define a lambda function that takes two integers as input and returns their sum. Test the lambda function with different inputs.\n",
        "\n",
        "### Assignment 10: Map Function\n",
        "\n",
        "Use the map function to apply a lambda function that squares each number in a list of integers. Test with different lists.\n",
        "\n",
        "### Assignment 11: Filter Function\n",
        "\n",
        "Use the filter function to filter out all odd numbers from a list of integers. Test with different lists.\n",
        "\n",
        "### Assignment 12: Function Decorator\n",
        "\n",
        "Define a decorator function that prints 'Executing function...' before executing a function and 'Function executed.' after executing it. Apply this decorator to a function that takes a list of integers and returns their sum. Test the decorated function with different lists.\n",
        "\n",
        "### Assignment 13: Function with *args and **kwargs\n",
        "\n",
        "Define a function that takes variable-length arguments and keyword arguments and prints them. Test the function with different inputs.\n",
        "\n",
        "### Assignment 14: Higher-Order Function\n",
        "\n",
        "Define a higher-order function that takes a function and a list of integers as arguments, and applies the function to each integer in the list. Test with different functions and lists.\n",
        "\n",
        "### Assignment 15: Function Documentation\n",
        "\n",
        "Define a function with a docstring that explains what the function does, its parameters, and its return value. Print the function's docstring."
      ],
      "id": "iZ-uFXGdbZm7"
    },
    {
      "cell_type": "markdown",
      "source": [
        "ASSIGNMENT 1"
      ],
      "metadata": {
        "id": "7WWF2AmfbyT0"
      },
      "id": "7WWF2AmfbyT0"
    },
    {
      "cell_type": "code",
      "execution_count": null,
      "metadata": {
        "colab": {
          "base_uri": "https://localhost:8080/"
        },
        "id": "p1iEfgR-bZm9",
        "outputId": "56432d00-44f8-40c8-9140-af00fbcd9961"
      },
      "outputs": [
        {
          "output_type": "stream",
          "name": "stdout",
          "text": [
            "25\n",
            "9\n",
            "81\n"
          ]
        }
      ],
      "source": [
        "#assign 1\n",
        "def squ(inp):\n",
        "  return inp**2\n",
        "print(squ(5))\n",
        "print(squ(3))\n",
        "print(squ(9))"
      ],
      "id": "p1iEfgR-bZm9"
    },
    {
      "cell_type": "markdown",
      "source": [
        "ASSIGNMENT 2"
      ],
      "metadata": {
        "id": "4X0TLPOJcbS4"
      },
      "id": "4X0TLPOJcbS4"
    },
    {
      "cell_type": "code",
      "source": [
        "def summ(inp1,inp2):\n",
        "  return inp1+inp2\n",
        "print(summ(5,3))\n",
        "print(summ(3,9))"
      ],
      "metadata": {
        "colab": {
          "base_uri": "https://localhost:8080/"
        },
        "id": "kkfaBWv9cAre",
        "outputId": "148b302c-67cd-42a0-f7ed-f1458fb217dd"
      },
      "id": "kkfaBWv9cAre",
      "execution_count": null,
      "outputs": [
        {
          "output_type": "stream",
          "name": "stdout",
          "text": [
            "8\n",
            "12\n"
          ]
        }
      ]
    },
    {
      "cell_type": "markdown",
      "source": [
        "ASSIGNMENT 3"
      ],
      "metadata": {
        "id": "mujFKtxfcx7P"
      },
      "id": "mujFKtxfcx7P"
    },
    {
      "cell_type": "code",
      "source": [
        "def summ(inp1,inp2=5):\n",
        "  return inp1+inp2\n",
        "print(summ(5,3))\n",
        "print(summ(3,9))"
      ],
      "metadata": {
        "colab": {
          "base_uri": "https://localhost:8080/"
        },
        "id": "mDHahoIicX37",
        "outputId": "47a686ef-e8b6-4efd-e0de-35c848643843"
      },
      "id": "mDHahoIicX37",
      "execution_count": null,
      "outputs": [
        {
          "output_type": "stream",
          "name": "stdout",
          "text": [
            "8\n",
            "12\n"
          ]
        }
      ]
    },
    {
      "cell_type": "markdown",
      "source": [
        "ASSIGNMENT 4"
      ],
      "metadata": {
        "id": "i5P7ARpee71l"
      },
      "id": "i5P7ARpee71l"
    },
    {
      "cell_type": "code",
      "source": [
        "def edit_info(first_name, last_name, age):\n",
        "    return f\"{first_name} {last_name} is {age} years old.\"\n",
        "print(edit_info(first_name=\"shyam\", last_name=\"singha\", age=25))\n",
        "print(edit_info(first_name=\"rosy\", last_name=\"roy\", age=40))\n",
        "print(edit_info(first_name=\"hema\", last_name=\"sankar\", age=19))\n"
      ],
      "metadata": {
        "colab": {
          "base_uri": "https://localhost:8080/"
        },
        "id": "dzlZzGLgesKn",
        "outputId": "4dfac046-9877-4dc6-e88c-8231fc098d03"
      },
      "id": "dzlZzGLgesKn",
      "execution_count": null,
      "outputs": [
        {
          "output_type": "stream",
          "name": "stdout",
          "text": [
            "shyam singha is 25 years old.\n",
            "rosy roy is 40 years old.\n",
            "hema sankar is 19 years old.\n"
          ]
        }
      ]
    },
    {
      "cell_type": "markdown",
      "source": [
        "ASSIGNMENT 5"
      ],
      "metadata": {
        "id": "jKKPKDNufavm"
      },
      "id": "jKKPKDNufavm"
    },
    {
      "cell_type": "code",
      "source": [
        "def prod(**args):\n",
        "  product=1\n",
        "  for i in args.values():\n",
        "    product*=i\n",
        "  return product\n",
        "print(prod(a=5,b=3,c=9))\n",
        "print(prod(a=3,b=9))\n"
      ],
      "metadata": {
        "colab": {
          "base_uri": "https://localhost:8080/"
        },
        "id": "NpR6QlRFfYAr",
        "outputId": "5ff467b2-924e-4938-f358-da0fc82ccf1a"
      },
      "id": "NpR6QlRFfYAr",
      "execution_count": null,
      "outputs": [
        {
          "output_type": "stream",
          "name": "stdout",
          "text": [
            "135\n",
            "27\n"
          ]
        }
      ]
    },
    {
      "cell_type": "markdown",
      "source": [
        "ASSIGNMENT 6"
      ],
      "metadata": {
        "id": "XECv_Ij0gDZw"
      },
      "id": "XECv_Ij0gDZw"
    },
    {
      "cell_type": "code",
      "source": [
        "\n",
        "def outer(inp1,inp2):\n",
        "  def inner(inp1,inp2):\n",
        "    return \"inner function\",inp1*inp2\n",
        "  return inner(inp1,inp2)\n",
        "print(outer(5,3))\n",
        "print(outer(3,9))\n"
      ],
      "metadata": {
        "colab": {
          "base_uri": "https://localhost:8080/"
        },
        "id": "qJ_o8V7jf5G0",
        "outputId": "86f59b49-a1db-45b5-d6b8-66d9ee673c91"
      },
      "id": "qJ_o8V7jf5G0",
      "execution_count": null,
      "outputs": [
        {
          "output_type": "stream",
          "name": "stdout",
          "text": [
            "('inner function', 15)\n",
            "('inner function', 27)\n"
          ]
        }
      ]
    },
    {
      "cell_type": "markdown",
      "source": [
        "ASSIGNMENT 7"
      ],
      "metadata": {
        "id": "PTxQ79tkhELK"
      },
      "id": "PTxQ79tkhELK"
    },
    {
      "cell_type": "code",
      "source": [
        "def pow(inp1):\n",
        "  return f\"sq: {inp1**2}, cub: {inp1**3} , four: {inp1**4}\"\n",
        "print(pow(5))\n",
        "print(pow(3))"
      ],
      "metadata": {
        "colab": {
          "base_uri": "https://localhost:8080/"
        },
        "id": "0E5GqRgfg3dz",
        "outputId": "5a177ee9-05c9-460d-c8ca-2d7e5b02f0e9"
      },
      "id": "0E5GqRgfg3dz",
      "execution_count": null,
      "outputs": [
        {
          "output_type": "stream",
          "name": "stdout",
          "text": [
            "sq: 25, cub: 125 , four: 625\n",
            "sq: 9, cub: 27 , four: 81\n"
          ]
        }
      ]
    },
    {
      "cell_type": "markdown",
      "source": [
        "Assignent 8"
      ],
      "metadata": {
        "id": "c-hFur2NhfZN"
      },
      "id": "c-hFur2NhfZN"
    },
    {
      "cell_type": "code",
      "source": [
        "def fact(inp1):\n",
        "  if inp1==1 :\n",
        "    return 1\n",
        "  return inp1*fact(inp1-1)\n",
        "print(fact(5))\n",
        "print(fact(3))"
      ],
      "metadata": {
        "id": "2pZR_7rWhdw_",
        "colab": {
          "base_uri": "https://localhost:8080/"
        },
        "outputId": "9c5ab451-e32f-47e5-9809-fa3fe143dd47"
      },
      "id": "2pZR_7rWhdw_",
      "execution_count": 2,
      "outputs": [
        {
          "output_type": "stream",
          "name": "stdout",
          "text": [
            "120\n",
            "6\n"
          ]
        }
      ]
    },
    {
      "cell_type": "markdown",
      "source": [
        "Assignment 9"
      ],
      "metadata": {
        "id": "nrPFYuSaildZ"
      },
      "id": "nrPFYuSaildZ"
    },
    {
      "cell_type": "code",
      "source": [
        "summ=lambda x,y:x+y\n",
        "print(summ(2,3))\n",
        "print(summ(8,8))"
      ],
      "metadata": {
        "colab": {
          "base_uri": "https://localhost:8080/"
        },
        "id": "t5_IUKJhiRPR",
        "outputId": "50fec85a-fa57-4bef-824b-534e0c8aeb57"
      },
      "id": "t5_IUKJhiRPR",
      "execution_count": 3,
      "outputs": [
        {
          "output_type": "stream",
          "name": "stdout",
          "text": [
            "5\n",
            "16\n"
          ]
        }
      ]
    },
    {
      "cell_type": "markdown",
      "source": [
        "Assignment 10"
      ],
      "metadata": {
        "id": "q6FPE_mliyHf"
      },
      "id": "q6FPE_mliyHf"
    },
    {
      "cell_type": "code",
      "source": [
        "def square_list(numbers):\n",
        "    return list(map(lambda x: x ** 2, numbers))\n",
        "print(square_list([1, 2, 3, 4, 5]))\n",
        "print(square_list([5, 6, 7, 8, 9]))"
      ],
      "metadata": {
        "colab": {
          "base_uri": "https://localhost:8080/"
        },
        "id": "oCb9DXR3iwBD",
        "outputId": "2530348b-16e1-4737-9da6-41a92eac935f"
      },
      "id": "oCb9DXR3iwBD",
      "execution_count": 4,
      "outputs": [
        {
          "output_type": "stream",
          "name": "stdout",
          "text": [
            "[1, 4, 9, 16, 25]\n",
            "[25, 36, 49, 64, 81]\n"
          ]
        }
      ]
    },
    {
      "cell_type": "markdown",
      "source": [
        "Assignment 11"
      ],
      "metadata": {
        "id": "1Z_bnir7lRKY"
      },
      "id": "1Z_bnir7lRKY"
    },
    {
      "cell_type": "code",
      "source": [
        "def filter_even(numbers):\n",
        "    return list(filter(lambda x: x % 2 == 0, numbers))\n",
        "print(filter_even([1, 2, 3, 4, 5]))\n",
        "print(filter_even([5, 6, 7, 8, 9]))"
      ],
      "metadata": {
        "colab": {
          "base_uri": "https://localhost:8080/"
        },
        "id": "8MEkqPkdksPi",
        "outputId": "77e40e98-eb26-430b-ebef-0898b4db900c"
      },
      "id": "8MEkqPkdksPi",
      "execution_count": 5,
      "outputs": [
        {
          "output_type": "stream",
          "name": "stdout",
          "text": [
            "[2, 4]\n",
            "[6, 8]\n"
          ]
        }
      ]
    },
    {
      "cell_type": "markdown",
      "source": [
        "Assignment 13"
      ],
      "metadata": {
        "id": "UNxNs4ecltju"
      },
      "id": "UNxNs4ecltju"
    },
    {
      "cell_type": "code",
      "source": [
        "def display_arguments(*args, **kwargs):\n",
        "    print(\"Positional arguments (args):\", args)\n",
        "    print(\"Keyword arguments (kwargs):\", kwargs)\n",
        "display_arguments(1, 2, 3, name=\"shankar\", age=25)"
      ],
      "metadata": {
        "colab": {
          "base_uri": "https://localhost:8080/"
        },
        "id": "J5Z9pQrClbpd",
        "outputId": "1f3f1037-837b-41c7-a12e-509ef0109c73"
      },
      "id": "J5Z9pQrClbpd",
      "execution_count": 8,
      "outputs": [
        {
          "output_type": "stream",
          "name": "stdout",
          "text": [
            "Positional arguments (args): (1, 2, 3)\n",
            "Keyword arguments (kwargs): {'name': 'shankar', 'age': 25}\n"
          ]
        }
      ]
    },
    {
      "cell_type": "markdown",
      "source": [
        "Assignment 14"
      ],
      "metadata": {
        "id": "fVlXjzwDnORd"
      },
      "id": "fVlXjzwDnORd"
    },
    {
      "cell_type": "code",
      "source": [
        "def apply_function(func, numbers):\n",
        "    return [func(n) for n in numbers]\n",
        "def square(x):\n",
        "    return x ** 2\n",
        "\n",
        "def double(x):\n",
        "    return x * 2\n",
        "\n",
        "def negate(x):\n",
        "    return -x\n",
        "\n",
        "print(apply_function(square, [1, 2, 3, 4]))\n",
        "print(apply_function(double, [5, 6, 7]))"
      ],
      "metadata": {
        "colab": {
          "base_uri": "https://localhost:8080/"
        },
        "id": "eGt7Q51omHEM",
        "outputId": "6f630ee3-ea28-4728-9764-8eb714601502"
      },
      "id": "eGt7Q51omHEM",
      "execution_count": 9,
      "outputs": [
        {
          "output_type": "stream",
          "name": "stdout",
          "text": [
            "[1, 4, 9, 16]\n",
            "[10, 12, 14]\n"
          ]
        }
      ]
    },
    {
      "cell_type": "markdown",
      "source": [
        "Assignment 15"
      ],
      "metadata": {
        "id": "Mi7JVjOwn8pk"
      },
      "id": "Mi7JVjOwn8pk"
    },
    {
      "cell_type": "code",
      "source": [
        "def add_numbers(a, b):\n",
        "    \"\"\"\n",
        "    Adds two integers and returns the result.\n",
        "\n",
        "    Parameters:\n",
        "    a (int): The first integer.\n",
        "    b (int): The second integer.\n",
        "\n",
        "    Returns:\n",
        "    int: The sum of a and b.\n",
        "    \"\"\"\n",
        "    return a + b\n",
        "\n",
        "print(add_numbers.__doc__)\n"
      ],
      "metadata": {
        "colab": {
          "base_uri": "https://localhost:8080/"
        },
        "id": "e0MREiBxn6hf",
        "outputId": "54842ecb-0c55-413e-847a-159b46e1c6a7"
      },
      "id": "e0MREiBxn6hf",
      "execution_count": 10,
      "outputs": [
        {
          "output_type": "stream",
          "name": "stdout",
          "text": [
            "\n",
            "    Adds two integers and returns the result.\n",
            "\n",
            "    Parameters:\n",
            "    a (int): The first integer.\n",
            "    b (int): The second integer.\n",
            "\n",
            "    Returns:\n",
            "    int: The sum of a and b.\n",
            "    \n"
          ]
        }
      ]
    },
    {
      "cell_type": "code",
      "source": [],
      "metadata": {
        "id": "0SdsVuSioI3m"
      },
      "id": "0SdsVuSioI3m",
      "execution_count": null,
      "outputs": []
    }
  ],
  "metadata": {
    "kernelspec": {
      "display_name": "Python 3",
      "language": "python",
      "name": "python3"
    },
    "language_info": {
      "codemirror_mode": {
        "name": "ipython",
        "version": 3
      },
      "file_extension": ".py",
      "mimetype": "text/x-python",
      "name": "python",
      "nbconvert_exporter": "python",
      "pygments_lexer": "ipython3",
      "version": "3.9.7"
    },
    "colab": {
      "provenance": []
    }
  },
  "nbformat": 4,
  "nbformat_minor": 5
}